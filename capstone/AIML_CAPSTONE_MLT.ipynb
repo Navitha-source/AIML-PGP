{
 "cells": [
  {
   "cell_type": "code",
   "execution_count": 1,
   "id": "1a6ead42",
   "metadata": {},
   "outputs": [],
   "source": [
    "# Import basic libraries \n",
    "import numpy as np\n",
    "import pandas as pd"
   ]
  },
  {
   "cell_type": "markdown",
   "id": "3a85b780",
   "metadata": {},
   "source": [
    "Import and merge all the three datasets. "
   ]
  },
  {
   "cell_type": "code",
   "execution_count": 39,
   "id": "70895cfb",
   "metadata": {},
   "outputs": [],
   "source": [
    "#creating the two dataframes from commoncrawl file \n",
    "file_cc_de_en=open('commoncrawl_de_en.txt',encoding='Utf-8')\n",
    "cc_de_en=file_cc_de_en.readlines()\n",
    "file_cc_en_de=open('commoncrawl_en_de.txt',encoding='Utf-8')\n",
    "cc_en_de=file_cc_en_de.readlines()\n",
    "cc_de_en_df=pd.DataFrame(cc_de_en,columns=['German'])\n",
    "cc_en_de_df=pd.DataFrame(cc_en_de,columns=['English'])"
   ]
  },
  {
   "cell_type": "code",
   "execution_count": 40,
   "id": "600736f2",
   "metadata": {},
   "outputs": [],
   "source": [
    "#creating the two dataframes from europaul file \n",
    "file_ep_de_en=open('europarl-v7_de_en.txt',encoding='Utf-8')\n",
    "ep_de_en=file_ep_de_en.readlines()\n",
    "file_ep_en_de=open('europarl-v7_en_de.txt',encoding='Utf-8')\n",
    "ep_en_de=file_ep_en_de.readlines()\n",
    "ep_de_en_df=pd.DataFrame(ep_de_en,columns=['German'])\n",
    "ep_en_de_df=pd.DataFrame(ep_en_de,columns=['English'])"
   ]
  },
  {
   "cell_type": "code",
   "execution_count": 41,
   "id": "65dd77cb",
   "metadata": {},
   "outputs": [],
   "source": [
    "#creating the two dataframes from news-commentary file \n",
    "file_news_de_en=open('news-commentary-v9_de_en.txt',encoding='Utf-8')\n",
    "news_de_en=file_news_de_en.readlines()\n",
    "file_news_en_de=open('news-commentary-v9_en_de.txt',encoding='Utf-8')\n",
    "news_en_de=file_news_en_de.readlines()\n",
    "news_de_en_df=pd.DataFrame(news_de_en,columns=['German'])\n",
    "news_en_de_df=pd.DataFrame(news_en_de,columns=['English'])"
   ]
  },
  {
   "cell_type": "code",
   "execution_count": 42,
   "id": "4a633f2f",
   "metadata": {},
   "outputs": [
    {
     "name": "stdout",
     "output_type": "stream",
     "text": [
      "German    2399123\n",
      "dtype: int64\n",
      "English    2399123\n",
      "dtype: int64\n",
      "German    1920209\n",
      "dtype: int64\n",
      "English    1920209\n",
      "dtype: int64\n",
      "German    201854\n",
      "dtype: int64\n",
      "English    201995\n",
      "dtype: int64\n"
     ]
    }
   ],
   "source": [
    "#printing the counts of the dataframe\n",
    "print(cc_de_en_df.count())\n",
    "print(cc_en_de_df.count())\n",
    "print(ep_de_en_df.count())\n",
    "print(ep_en_de_df.count())\n",
    "print(news_de_en_df.count())\n",
    "print(news_en_de_df.count())"
   ]
  },
  {
   "cell_type": "code",
   "execution_count": 43,
   "id": "c2508e60",
   "metadata": {},
   "outputs": [],
   "source": [
    "#merging the individual dataframe into single datframe of commoncrawl file \n",
    "cc_de_en_df.join(cc_en_de_df)\n",
    "pd.merge(cc_de_en_df, cc_en_de_df, left_index=True, right_index=True)\n",
    "cc_df= pd.concat([cc_de_en_df, cc_en_de_df], axis=1)"
   ]
  },
  {
   "cell_type": "code",
   "execution_count": 44,
   "id": "0a92f4dc",
   "metadata": {},
   "outputs": [
    {
     "data": {
      "text/html": [
       "<div>\n",
       "<style scoped>\n",
       "    .dataframe tbody tr th:only-of-type {\n",
       "        vertical-align: middle;\n",
       "    }\n",
       "\n",
       "    .dataframe tbody tr th {\n",
       "        vertical-align: top;\n",
       "    }\n",
       "\n",
       "    .dataframe thead th {\n",
       "        text-align: right;\n",
       "    }\n",
       "</style>\n",
       "<table border=\"1\" class=\"dataframe\">\n",
       "  <thead>\n",
       "    <tr style=\"text-align: right;\">\n",
       "      <th></th>\n",
       "      <th>German</th>\n",
       "      <th>English</th>\n",
       "    </tr>\n",
       "  </thead>\n",
       "  <tbody>\n",
       "    <tr>\n",
       "      <th>0</th>\n",
       "      <td>iron cement ist eine gebrauchs-fertige Paste, ...</td>\n",
       "      <td>iron cement is a ready for use paste which is ...</td>\n",
       "    </tr>\n",
       "    <tr>\n",
       "      <th>1</th>\n",
       "      <td>Nach der Aushärtung schützt iron cement die Ko...</td>\n",
       "      <td>iron cement protects the ingot against the hot...</td>\n",
       "    </tr>\n",
       "    <tr>\n",
       "      <th>2</th>\n",
       "      <td>feuerfester Reparaturkitt für Feuerungsanlagen...</td>\n",
       "      <td>a fire restant repair cement for fire places, ...</td>\n",
       "    </tr>\n",
       "    <tr>\n",
       "      <th>3</th>\n",
       "      <td>Der Bau und die Reparatur der Autostraßen...\\n</td>\n",
       "      <td>Construction and repair of highways and...\\n</td>\n",
       "    </tr>\n",
       "    <tr>\n",
       "      <th>4</th>\n",
       "      <td>die Mitteilungen sollen den geschäftlichen kom...</td>\n",
       "      <td>An announcement must be commercial character.\\n</td>\n",
       "    </tr>\n",
       "  </tbody>\n",
       "</table>\n",
       "</div>"
      ],
      "text/plain": [
       "                                              German  \\\n",
       "0  iron cement ist eine gebrauchs-fertige Paste, ...   \n",
       "1  Nach der Aushärtung schützt iron cement die Ko...   \n",
       "2  feuerfester Reparaturkitt für Feuerungsanlagen...   \n",
       "3     Der Bau und die Reparatur der Autostraßen...\\n   \n",
       "4  die Mitteilungen sollen den geschäftlichen kom...   \n",
       "\n",
       "                                             English  \n",
       "0  iron cement is a ready for use paste which is ...  \n",
       "1  iron cement protects the ingot against the hot...  \n",
       "2  a fire restant repair cement for fire places, ...  \n",
       "3       Construction and repair of highways and...\\n  \n",
       "4    An announcement must be commercial character.\\n  "
      ]
     },
     "execution_count": 44,
     "metadata": {},
     "output_type": "execute_result"
    }
   ],
   "source": [
    "cc_df.head()\n"
   ]
  },
  {
   "cell_type": "code",
   "execution_count": 45,
   "id": "28b28306",
   "metadata": {},
   "outputs": [
    {
     "data": {
      "text/plain": [
       "German     2399123\n",
       "English    2399123\n",
       "dtype: int64"
      ]
     },
     "execution_count": 45,
     "metadata": {},
     "output_type": "execute_result"
    }
   ],
   "source": [
    "cc_df.count()"
   ]
  },
  {
   "cell_type": "code",
   "execution_count": 46,
   "id": "1ced1b82",
   "metadata": {},
   "outputs": [
    {
     "data": {
      "text/html": [
       "<div>\n",
       "<style scoped>\n",
       "    .dataframe tbody tr th:only-of-type {\n",
       "        vertical-align: middle;\n",
       "    }\n",
       "\n",
       "    .dataframe tbody tr th {\n",
       "        vertical-align: top;\n",
       "    }\n",
       "\n",
       "    .dataframe thead th {\n",
       "        text-align: right;\n",
       "    }\n",
       "</style>\n",
       "<table border=\"1\" class=\"dataframe\">\n",
       "  <thead>\n",
       "    <tr style=\"text-align: right;\">\n",
       "      <th></th>\n",
       "      <th>German</th>\n",
       "      <th>English</th>\n",
       "    </tr>\n",
       "  </thead>\n",
       "  <tbody>\n",
       "    <tr>\n",
       "      <th>0</th>\n",
       "      <td>Wiederaufnahme der Sitzungsperiode\\n</td>\n",
       "      <td>Resumption of the session\\n</td>\n",
       "    </tr>\n",
       "    <tr>\n",
       "      <th>1</th>\n",
       "      <td>Ich erkläre die am Freitag, dem 17. Dezember u...</td>\n",
       "      <td>I declare resumed the session of the European ...</td>\n",
       "    </tr>\n",
       "    <tr>\n",
       "      <th>2</th>\n",
       "      <td>Wie Sie feststellen konnten, ist der gefürchte...</td>\n",
       "      <td>Although, as you will have seen, the dreaded '...</td>\n",
       "    </tr>\n",
       "    <tr>\n",
       "      <th>3</th>\n",
       "      <td>Im Parlament besteht der Wunsch nach einer Aus...</td>\n",
       "      <td>You have requested a debate on this subject in...</td>\n",
       "    </tr>\n",
       "    <tr>\n",
       "      <th>4</th>\n",
       "      <td>Heute möchte ich Sie bitten - das ist auch der...</td>\n",
       "      <td>In the meantime, I should like to observe a mi...</td>\n",
       "    </tr>\n",
       "  </tbody>\n",
       "</table>\n",
       "</div>"
      ],
      "text/plain": [
       "                                              German  \\\n",
       "0               Wiederaufnahme der Sitzungsperiode\\n   \n",
       "1  Ich erkläre die am Freitag, dem 17. Dezember u...   \n",
       "2  Wie Sie feststellen konnten, ist der gefürchte...   \n",
       "3  Im Parlament besteht der Wunsch nach einer Aus...   \n",
       "4  Heute möchte ich Sie bitten - das ist auch der...   \n",
       "\n",
       "                                             English  \n",
       "0                        Resumption of the session\\n  \n",
       "1  I declare resumed the session of the European ...  \n",
       "2  Although, as you will have seen, the dreaded '...  \n",
       "3  You have requested a debate on this subject in...  \n",
       "4  In the meantime, I should like to observe a mi...  "
      ]
     },
     "execution_count": 46,
     "metadata": {},
     "output_type": "execute_result"
    }
   ],
   "source": [
    "#merging the individual dataframe into single datframe of eurropaul file \n",
    "ep_de_en_df.join(ep_en_de_df)\n",
    "pd.merge(ep_de_en_df, ep_en_de_df, left_index=True, right_index=True)\n",
    "ep_df= pd.concat([ep_de_en_df, ep_en_de_df], axis=1)\n",
    "ep_df.head()"
   ]
  },
  {
   "cell_type": "code",
   "execution_count": 47,
   "id": "e97618dd",
   "metadata": {},
   "outputs": [
    {
     "data": {
      "text/plain": [
       "German     1920209\n",
       "English    1920209\n",
       "dtype: int64"
      ]
     },
     "execution_count": 47,
     "metadata": {},
     "output_type": "execute_result"
    }
   ],
   "source": [
    "ep_df.count()"
   ]
  },
  {
   "cell_type": "code",
   "execution_count": 48,
   "id": "9a352fb6",
   "metadata": {},
   "outputs": [
    {
     "data": {
      "text/html": [
       "<div>\n",
       "<style scoped>\n",
       "    .dataframe tbody tr th:only-of-type {\n",
       "        vertical-align: middle;\n",
       "    }\n",
       "\n",
       "    .dataframe tbody tr th {\n",
       "        vertical-align: top;\n",
       "    }\n",
       "\n",
       "    .dataframe thead th {\n",
       "        text-align: right;\n",
       "    }\n",
       "</style>\n",
       "<table border=\"1\" class=\"dataframe\">\n",
       "  <thead>\n",
       "    <tr style=\"text-align: right;\">\n",
       "      <th></th>\n",
       "      <th>German</th>\n",
       "      <th>English</th>\n",
       "    </tr>\n",
       "  </thead>\n",
       "  <tbody>\n",
       "    <tr>\n",
       "      <th>0</th>\n",
       "      <td>Steigt Gold auf 10.000 Dollar?\\n</td>\n",
       "      <td>$10,000 Gold?\\n</td>\n",
       "    </tr>\n",
       "    <tr>\n",
       "      <th>1</th>\n",
       "      <td>SAN FRANCISCO – Es war noch nie leicht, ein ra...</td>\n",
       "      <td>SAN FRANCISCO – It has never been easy to have...</td>\n",
       "    </tr>\n",
       "    <tr>\n",
       "      <th>2</th>\n",
       "      <td>In letzter Zeit allerdings ist dies schwierige...</td>\n",
       "      <td>Lately, with gold prices up more than 300% ove...</td>\n",
       "    </tr>\n",
       "    <tr>\n",
       "      <th>3</th>\n",
       "      <td>Erst letzten Dezember verfassten meine Kollege...</td>\n",
       "      <td>Just last December, fellow economists Martin F...</td>\n",
       "    </tr>\n",
       "    <tr>\n",
       "      <th>4</th>\n",
       "      <td>Und es kam, wie es kommen musste.\\n</td>\n",
       "      <td>Wouldn’t you know it?\\n</td>\n",
       "    </tr>\n",
       "  </tbody>\n",
       "</table>\n",
       "</div>"
      ],
      "text/plain": [
       "                                              German  \\\n",
       "0                   Steigt Gold auf 10.000 Dollar?\\n   \n",
       "1  SAN FRANCISCO – Es war noch nie leicht, ein ra...   \n",
       "2  In letzter Zeit allerdings ist dies schwierige...   \n",
       "3  Erst letzten Dezember verfassten meine Kollege...   \n",
       "4                Und es kam, wie es kommen musste.\\n   \n",
       "\n",
       "                                             English  \n",
       "0                                    $10,000 Gold?\\n  \n",
       "1  SAN FRANCISCO – It has never been easy to have...  \n",
       "2  Lately, with gold prices up more than 300% ove...  \n",
       "3  Just last December, fellow economists Martin F...  \n",
       "4                            Wouldn’t you know it?\\n  "
      ]
     },
     "execution_count": 48,
     "metadata": {},
     "output_type": "execute_result"
    }
   ],
   "source": [
    "#merging the individual dataframe into single datframe of news-commentary file \n",
    "news_de_en_df.join(news_en_de_df)\n",
    "pd.merge(news_de_en_df, news_en_de_df, left_index=True, right_index=True)\n",
    "news_df= pd.concat([news_de_en_df, news_en_de_df], axis=1)\n",
    "news_df.head()"
   ]
  },
  {
   "cell_type": "code",
   "execution_count": 49,
   "id": "1ede7f57",
   "metadata": {},
   "outputs": [
    {
     "data": {
      "text/plain": [
       "German     201854\n",
       "English    201995\n",
       "dtype: int64"
      ]
     },
     "execution_count": 49,
     "metadata": {},
     "output_type": "execute_result"
    }
   ],
   "source": [
    "news_df.count()"
   ]
  },
  {
   "cell_type": "code",
   "execution_count": 13,
   "id": "ba523076",
   "metadata": {},
   "outputs": [],
   "source": [
    "#clearing up the space\n",
    "del [cc_de_en_df, cc_en_de_df]\n",
    "del [ep_de_en_df, ep_en_de_df]\n",
    "del [news_de_en_df, news_en_de_df]"
   ]
  },
  {
   "cell_type": "code",
   "execution_count": 14,
   "id": "263c83ca",
   "metadata": {},
   "outputs": [],
   "source": [
    "#combine all the three dataframes into one single one\n",
    "final_data_df = pd.concat([news_df,ep_df, cc_df])\n"
   ]
  },
  {
   "cell_type": "code",
   "execution_count": 15,
   "id": "ae66665e",
   "metadata": {},
   "outputs": [],
   "source": [
    "#clearing up the space\n",
    "del[news_df,ep_df, cc_df]"
   ]
  },
  {
   "cell_type": "code",
   "execution_count": 16,
   "id": "5fd8724e",
   "metadata": {},
   "outputs": [
    {
     "data": {
      "text/html": [
       "<div>\n",
       "<style scoped>\n",
       "    .dataframe tbody tr th:only-of-type {\n",
       "        vertical-align: middle;\n",
       "    }\n",
       "\n",
       "    .dataframe tbody tr th {\n",
       "        vertical-align: top;\n",
       "    }\n",
       "\n",
       "    .dataframe thead th {\n",
       "        text-align: right;\n",
       "    }\n",
       "</style>\n",
       "<table border=\"1\" class=\"dataframe\">\n",
       "  <thead>\n",
       "    <tr style=\"text-align: right;\">\n",
       "      <th></th>\n",
       "      <th>German</th>\n",
       "      <th>English</th>\n",
       "    </tr>\n",
       "  </thead>\n",
       "  <tbody>\n",
       "    <tr>\n",
       "      <th>0</th>\n",
       "      <td>Steigt Gold auf 10.000 Dollar?\\n</td>\n",
       "      <td>$10,000 Gold?\\n</td>\n",
       "    </tr>\n",
       "    <tr>\n",
       "      <th>1</th>\n",
       "      <td>SAN FRANCISCO – Es war noch nie leicht, ein ra...</td>\n",
       "      <td>SAN FRANCISCO – It has never been easy to have...</td>\n",
       "    </tr>\n",
       "    <tr>\n",
       "      <th>2</th>\n",
       "      <td>In letzter Zeit allerdings ist dies schwierige...</td>\n",
       "      <td>Lately, with gold prices up more than 300% ove...</td>\n",
       "    </tr>\n",
       "    <tr>\n",
       "      <th>3</th>\n",
       "      <td>Erst letzten Dezember verfassten meine Kollege...</td>\n",
       "      <td>Just last December, fellow economists Martin F...</td>\n",
       "    </tr>\n",
       "    <tr>\n",
       "      <th>4</th>\n",
       "      <td>Und es kam, wie es kommen musste.\\n</td>\n",
       "      <td>Wouldn’t you know it?\\n</td>\n",
       "    </tr>\n",
       "  </tbody>\n",
       "</table>\n",
       "</div>"
      ],
      "text/plain": [
       "                                              German  \\\n",
       "0                   Steigt Gold auf 10.000 Dollar?\\n   \n",
       "1  SAN FRANCISCO – Es war noch nie leicht, ein ra...   \n",
       "2  In letzter Zeit allerdings ist dies schwierige...   \n",
       "3  Erst letzten Dezember verfassten meine Kollege...   \n",
       "4                Und es kam, wie es kommen musste.\\n   \n",
       "\n",
       "                                             English  \n",
       "0                                    $10,000 Gold?\\n  \n",
       "1  SAN FRANCISCO – It has never been easy to have...  \n",
       "2  Lately, with gold prices up more than 300% ove...  \n",
       "3  Just last December, fellow economists Martin F...  \n",
       "4                            Wouldn’t you know it?\\n  "
      ]
     },
     "execution_count": 16,
     "metadata": {},
     "output_type": "execute_result"
    }
   ],
   "source": [
    "final_data_df.head()"
   ]
  },
  {
   "cell_type": "code",
   "execution_count": 17,
   "id": "fc9732a4",
   "metadata": {},
   "outputs": [
    {
     "name": "stdout",
     "output_type": "stream",
     "text": [
      "German     4521186\n",
      "English    4521327\n",
      "dtype: int64\n"
     ]
    }
   ],
   "source": [
    "print(final_data_df.count())"
   ]
  },
  {
   "cell_type": "code",
   "execution_count": 18,
   "id": "09780a60",
   "metadata": {},
   "outputs": [
    {
     "data": {
      "text/plain": [
       "45016"
      ]
     },
     "execution_count": 18,
     "metadata": {},
     "output_type": "execute_result"
    }
   ],
   "source": [
    "#check for duplicate records\n",
    "final_data_df.duplicated().sum()"
   ]
  },
  {
   "cell_type": "code",
   "execution_count": 19,
   "id": "cca85c53",
   "metadata": {},
   "outputs": [
    {
     "data": {
      "text/html": [
       "<div>\n",
       "<style scoped>\n",
       "    .dataframe tbody tr th:only-of-type {\n",
       "        vertical-align: middle;\n",
       "    }\n",
       "\n",
       "    .dataframe tbody tr th {\n",
       "        vertical-align: top;\n",
       "    }\n",
       "\n",
       "    .dataframe thead th {\n",
       "        text-align: right;\n",
       "    }\n",
       "</style>\n",
       "<table border=\"1\" class=\"dataframe\">\n",
       "  <thead>\n",
       "    <tr style=\"text-align: right;\">\n",
       "      <th></th>\n",
       "      <th>German</th>\n",
       "      <th>English</th>\n",
       "    </tr>\n",
       "  </thead>\n",
       "  <tbody>\n",
       "    <tr>\n",
       "      <th>4021</th>\n",
       "      <td>Warum?\\n</td>\n",
       "      <td>Why?\\n</td>\n",
       "    </tr>\n",
       "    <tr>\n",
       "      <th>4335</th>\n",
       "      <td>----------------------------------------------...</td>\n",
       "      <td>----------------------------------------------...</td>\n",
       "    </tr>\n",
       "    <tr>\n",
       "      <th>8005</th>\n",
       "      <td>Unterernährung und Hunger\\n</td>\n",
       "      <td>Malnutrition and Hunger\\n</td>\n",
       "    </tr>\n",
       "    <tr>\n",
       "      <th>8008</th>\n",
       "      <td>Übertragbare Krankheiten\\n</td>\n",
       "      <td>Communicable Diseases\\n</td>\n",
       "    </tr>\n",
       "    <tr>\n",
       "      <th>8011</th>\n",
       "      <td>Übertragbare Krankheiten\\n</td>\n",
       "      <td>Communicable Diseases\\n</td>\n",
       "    </tr>\n",
       "    <tr>\n",
       "      <th>...</th>\n",
       "      <td>...</td>\n",
       "      <td>...</td>\n",
       "    </tr>\n",
       "    <tr>\n",
       "      <th>1920168</th>\n",
       "      <td>Wir kommen nun zur Abstimmung.\\n</td>\n",
       "      <td>We shall now proceed to the vote.\\n</td>\n",
       "    </tr>\n",
       "    <tr>\n",
       "      <th>1920206</th>\n",
       "      <td>Unterbrechung der Sitzungsperiode\\n</td>\n",
       "      <td>Adjournment of the session\\n</td>\n",
       "    </tr>\n",
       "    <tr>\n",
       "      <th>1920207</th>\n",
       "      <td>Ich erkläre die Sitzungsperiode des Europäisch...</td>\n",
       "      <td>I declare the session of the European Parliame...</td>\n",
       "    </tr>\n",
       "    <tr>\n",
       "      <th>592353</th>\n",
       "      <td>Da die Fettleibigkeit bei Kindern auch eng mit...</td>\n",
       "      <td>As childhood obesity is also strongly linked t...</td>\n",
       "    </tr>\n",
       "    <tr>\n",
       "      <th>1812042</th>\n",
       "      <td>Dieses Recht schließt die Meinungsfreiheit und...</td>\n",
       "      <td>This right shall include freedom to hold opini...</td>\n",
       "    </tr>\n",
       "  </tbody>\n",
       "</table>\n",
       "<p>45016 rows × 2 columns</p>\n",
       "</div>"
      ],
      "text/plain": [
       "                                                    German  \\\n",
       "4021                                              Warum?\\n   \n",
       "4335     ----------------------------------------------...   \n",
       "8005                           Unterernährung und Hunger\\n   \n",
       "8008                            Übertragbare Krankheiten\\n   \n",
       "8011                            Übertragbare Krankheiten\\n   \n",
       "...                                                    ...   \n",
       "1920168                   Wir kommen nun zur Abstimmung.\\n   \n",
       "1920206                Unterbrechung der Sitzungsperiode\\n   \n",
       "1920207  Ich erkläre die Sitzungsperiode des Europäisch...   \n",
       "592353   Da die Fettleibigkeit bei Kindern auch eng mit...   \n",
       "1812042  Dieses Recht schließt die Meinungsfreiheit und...   \n",
       "\n",
       "                                                   English  \n",
       "4021                                                Why?\\n  \n",
       "4335     ----------------------------------------------...  \n",
       "8005                             Malnutrition and Hunger\\n  \n",
       "8008                               Communicable Diseases\\n  \n",
       "8011                               Communicable Diseases\\n  \n",
       "...                                                    ...  \n",
       "1920168                We shall now proceed to the vote.\\n  \n",
       "1920206                       Adjournment of the session\\n  \n",
       "1920207  I declare the session of the European Parliame...  \n",
       "592353   As childhood obesity is also strongly linked t...  \n",
       "1812042  This right shall include freedom to hold opini...  \n",
       "\n",
       "[45016 rows x 2 columns]"
      ]
     },
     "execution_count": 19,
     "metadata": {},
     "output_type": "execute_result"
    }
   ],
   "source": [
    "final_data_df[final_data_df.duplicated()]"
   ]
  },
  {
   "cell_type": "code",
   "execution_count": 20,
   "id": "636af5bc",
   "metadata": {},
   "outputs": [],
   "source": [
    "#drop the duplicating records\n",
    "final_data_df = final_data_df.drop_duplicates()"
   ]
  },
  {
   "cell_type": "code",
   "execution_count": 21,
   "id": "7fef633d",
   "metadata": {},
   "outputs": [
    {
     "name": "stdout",
     "output_type": "stream",
     "text": [
      "German     4476170\n",
      "English    4476311\n",
      "dtype: int64\n"
     ]
    }
   ],
   "source": [
    "print(final_data_df.count())"
   ]
  },
  {
   "cell_type": "code",
   "execution_count": 22,
   "id": "8caf6235",
   "metadata": {},
   "outputs": [
    {
     "name": "stderr",
     "output_type": "stream",
     "text": [
      "C:\\Users\\navit\\AppData\\Local\\Temp\\ipykernel_4504\\1878863163.py:3: FutureWarning: The default value of regex will change from True to False in a future version.\n",
      "  final_data_df['German'] = final_data_df['German'].str.replace('[{}]'.format(string.punctuation), '')\n",
      "C:\\Users\\navit\\AppData\\Local\\Temp\\ipykernel_4504\\1878863163.py:4: FutureWarning: The default value of regex will change from True to False in a future version.\n",
      "  final_data_df['English'] = final_data_df['English'].str.replace('[{}]'.format(string.punctuation), '')\n"
     ]
    },
    {
     "data": {
      "text/html": [
       "<div>\n",
       "<style scoped>\n",
       "    .dataframe tbody tr th:only-of-type {\n",
       "        vertical-align: middle;\n",
       "    }\n",
       "\n",
       "    .dataframe tbody tr th {\n",
       "        vertical-align: top;\n",
       "    }\n",
       "\n",
       "    .dataframe thead th {\n",
       "        text-align: right;\n",
       "    }\n",
       "</style>\n",
       "<table border=\"1\" class=\"dataframe\">\n",
       "  <thead>\n",
       "    <tr style=\"text-align: right;\">\n",
       "      <th></th>\n",
       "      <th>German</th>\n",
       "      <th>English</th>\n",
       "    </tr>\n",
       "  </thead>\n",
       "  <tbody>\n",
       "    <tr>\n",
       "      <th>0</th>\n",
       "      <td>Steigt Gold auf 10000 Dollar\\n</td>\n",
       "      <td>10000 Gold\\n</td>\n",
       "    </tr>\n",
       "    <tr>\n",
       "      <th>1</th>\n",
       "      <td>SAN FRANCISCO – Es war noch nie leicht ein rat...</td>\n",
       "      <td>SAN FRANCISCO – It has never been easy to have...</td>\n",
       "    </tr>\n",
       "    <tr>\n",
       "      <th>2</th>\n",
       "      <td>In letzter Zeit allerdings ist dies schwierige...</td>\n",
       "      <td>Lately with gold prices up more than 300 over ...</td>\n",
       "    </tr>\n",
       "    <tr>\n",
       "      <th>3</th>\n",
       "      <td>Erst letzten Dezember verfassten meine Kollege...</td>\n",
       "      <td>Just last December fellow economists Martin Fe...</td>\n",
       "    </tr>\n",
       "    <tr>\n",
       "      <th>4</th>\n",
       "      <td>Und es kam wie es kommen musste\\n</td>\n",
       "      <td>Wouldn’t you know it\\n</td>\n",
       "    </tr>\n",
       "  </tbody>\n",
       "</table>\n",
       "</div>"
      ],
      "text/plain": [
       "                                              German  \\\n",
       "0                     Steigt Gold auf 10000 Dollar\\n   \n",
       "1  SAN FRANCISCO – Es war noch nie leicht ein rat...   \n",
       "2  In letzter Zeit allerdings ist dies schwierige...   \n",
       "3  Erst letzten Dezember verfassten meine Kollege...   \n",
       "4                  Und es kam wie es kommen musste\\n   \n",
       "\n",
       "                                             English  \n",
       "0                                       10000 Gold\\n  \n",
       "1  SAN FRANCISCO – It has never been easy to have...  \n",
       "2  Lately with gold prices up more than 300 over ...  \n",
       "3  Just last December fellow economists Martin Fe...  \n",
       "4                             Wouldn’t you know it\\n  "
      ]
     },
     "execution_count": 22,
     "metadata": {},
     "output_type": "execute_result"
    }
   ],
   "source": [
    "#removing punctuation\n",
    "import string\n",
    "\n",
    "\n",
    "final_data_df['German'] = final_data_df['German'].str.replace('[{}]'.format(string.punctuation), '')\n",
    "final_data_df['English'] = final_data_df['English'].str.replace('[{}]'.format(string.punctuation), '')\n",
    "final_data_df.head()\n"
   ]
  },
  {
   "cell_type": "code",
   "execution_count": 23,
   "id": "8de97890",
   "metadata": {},
   "outputs": [],
   "source": [
    "#replace '\\n' with empty string\n",
    "final_data_df.replace('\\n', '', regex=True, inplace=True)\n"
   ]
  },
  {
   "cell_type": "code",
   "execution_count": 145,
   "id": "be3f105d",
   "metadata": {},
   "outputs": [],
   "source": [
    " # Converting the data to Lower case the sentence\n",
    "final_data_df['English'] = final_data_df['English'].str.lower()\n",
    "final_data_df['German'] = final_data_df['German'].str.lower()"
   ]
  },
  {
   "cell_type": "code",
   "execution_count": 146,
   "id": "d4be1969",
   "metadata": {},
   "outputs": [
    {
     "data": {
      "text/html": [
       "<div>\n",
       "<style scoped>\n",
       "    .dataframe tbody tr th:only-of-type {\n",
       "        vertical-align: middle;\n",
       "    }\n",
       "\n",
       "    .dataframe tbody tr th {\n",
       "        vertical-align: top;\n",
       "    }\n",
       "\n",
       "    .dataframe thead th {\n",
       "        text-align: right;\n",
       "    }\n",
       "</style>\n",
       "<table border=\"1\" class=\"dataframe\">\n",
       "  <thead>\n",
       "    <tr style=\"text-align: right;\">\n",
       "      <th></th>\n",
       "      <th>German</th>\n",
       "      <th>English</th>\n",
       "    </tr>\n",
       "  </thead>\n",
       "  <tbody>\n",
       "    <tr>\n",
       "      <th>0</th>\n",
       "      <td>steigt gold auf 10000 dollar</td>\n",
       "      <td>10000 gold</td>\n",
       "    </tr>\n",
       "    <tr>\n",
       "      <th>1</th>\n",
       "      <td>san francisco – es war noch nie leicht ein rat...</td>\n",
       "      <td>san francisco – it has never been easy to have...</td>\n",
       "    </tr>\n",
       "    <tr>\n",
       "      <th>2</th>\n",
       "      <td>in letzter zeit allerdings ist dies schwierige...</td>\n",
       "      <td>lately with gold prices up more than 300 over ...</td>\n",
       "    </tr>\n",
       "    <tr>\n",
       "      <th>3</th>\n",
       "      <td>erst letzten dezember verfassten meine kollege...</td>\n",
       "      <td>just last december fellow economists martin fe...</td>\n",
       "    </tr>\n",
       "    <tr>\n",
       "      <th>4</th>\n",
       "      <td>und es kam wie es kommen musste</td>\n",
       "      <td>wouldn’t you know it</td>\n",
       "    </tr>\n",
       "  </tbody>\n",
       "</table>\n",
       "</div>"
      ],
      "text/plain": [
       "                                              German  \\\n",
       "0                       steigt gold auf 10000 dollar   \n",
       "1  san francisco – es war noch nie leicht ein rat...   \n",
       "2  in letzter zeit allerdings ist dies schwierige...   \n",
       "3  erst letzten dezember verfassten meine kollege...   \n",
       "4                    und es kam wie es kommen musste   \n",
       "\n",
       "                                             English  \n",
       "0                                         10000 gold  \n",
       "1  san francisco – it has never been easy to have...  \n",
       "2  lately with gold prices up more than 300 over ...  \n",
       "3  just last december fellow economists martin fe...  \n",
       "4                               wouldn’t you know it  "
      ]
     },
     "execution_count": 146,
     "metadata": {},
     "output_type": "execute_result"
    }
   ],
   "source": [
    "final_data_df.head()"
   ]
  },
  {
   "cell_type": "code",
   "execution_count": 147,
   "id": "e7e3220c",
   "metadata": {},
   "outputs": [
    {
     "data": {
      "text/html": [
       "<div>\n",
       "<style scoped>\n",
       "    .dataframe tbody tr th:only-of-type {\n",
       "        vertical-align: middle;\n",
       "    }\n",
       "\n",
       "    .dataframe tbody tr th {\n",
       "        vertical-align: top;\n",
       "    }\n",
       "\n",
       "    .dataframe thead th {\n",
       "        text-align: right;\n",
       "    }\n",
       "</style>\n",
       "<table border=\"1\" class=\"dataframe\">\n",
       "  <thead>\n",
       "    <tr style=\"text-align: right;\">\n",
       "      <th></th>\n",
       "      <th>German</th>\n",
       "      <th>English</th>\n",
       "    </tr>\n",
       "  </thead>\n",
       "  <tbody>\n",
       "    <tr>\n",
       "      <th>2399118</th>\n",
       "      <td>schon früh erkennt er dass erfolgreiche arbeit...</td>\n",
       "      <td>reiner zeising has been at home in the world o...</td>\n",
       "    </tr>\n",
       "    <tr>\n",
       "      <th>2399119</th>\n",
       "      <td>in seinem unternehmen werden durch diese einzi...</td>\n",
       "      <td>right from the outset he recognised that succe...</td>\n",
       "    </tr>\n",
       "    <tr>\n",
       "      <th>2399120</th>\n",
       "      <td>individualität ist nur eine der vielen stärken...</td>\n",
       "      <td>acting on this insight as long ago as 1988 he ...</td>\n",
       "    </tr>\n",
       "    <tr>\n",
       "      <th>2399121</th>\n",
       "      <td>gerhard menz  feldwebel ungarn 1945 dx06exkl</td>\n",
       "      <td>kit carson  101st airborne normandy 1944 chexcl</td>\n",
       "    </tr>\n",
       "    <tr>\n",
       "      <th>2399122</th>\n",
       "      <td>sie ist die ganze zeit im umbau aber ich glaub...</td>\n",
       "      <td>its still under construction but i hope that a...</td>\n",
       "    </tr>\n",
       "  </tbody>\n",
       "</table>\n",
       "</div>"
      ],
      "text/plain": [
       "                                                    German  \\\n",
       "2399118  schon früh erkennt er dass erfolgreiche arbeit...   \n",
       "2399119  in seinem unternehmen werden durch diese einzi...   \n",
       "2399120  individualität ist nur eine der vielen stärken...   \n",
       "2399121       gerhard menz  feldwebel ungarn 1945 dx06exkl   \n",
       "2399122  sie ist die ganze zeit im umbau aber ich glaub...   \n",
       "\n",
       "                                                   English  \n",
       "2399118  reiner zeising has been at home in the world o...  \n",
       "2399119  right from the outset he recognised that succe...  \n",
       "2399120  acting on this insight as long ago as 1988 he ...  \n",
       "2399121    kit carson  101st airborne normandy 1944 chexcl  \n",
       "2399122  its still under construction but i hope that a...  "
      ]
     },
     "execution_count": 147,
     "metadata": {},
     "output_type": "execute_result"
    }
   ],
   "source": [
    "final_data_df.tail()"
   ]
  },
  {
   "cell_type": "code",
   "execution_count": 26,
   "id": "9550d3d1",
   "metadata": {},
   "outputs": [
    {
     "data": {
      "text/plain": [
       "German     141\n",
       "English      0\n",
       "dtype: int64"
      ]
     },
     "execution_count": 26,
     "metadata": {},
     "output_type": "execute_result"
    }
   ],
   "source": [
    "#checking for missing values\n",
    "final_data_df.isnull().sum()"
   ]
  },
  {
   "cell_type": "code",
   "execution_count": 27,
   "id": "8c151e25",
   "metadata": {},
   "outputs": [],
   "source": [
    "#checking for missing value\n",
    "final_data = final_data_df[final_data_df.isna().any(axis=1)]"
   ]
  },
  {
   "cell_type": "code",
   "execution_count": 28,
   "id": "959b844b",
   "metadata": {},
   "outputs": [
    {
     "name": "stdout",
     "output_type": "stream",
     "text": [
      "       German                                            English\n",
      "201854    NaN  Last year UN Secretary General Ban Kimoon and ...\n",
      "201855    NaN  Regrettably the UN failed to follow up with in...\n",
      "201856    NaN  The UN would say it must be invited into a cou...\n",
      "201857    NaN  But it is also true that with adequate politic...\n",
      "201858    NaN  The UN should have put Mugabe on the defensive...\n",
      "...       ...                                                ...\n",
      "201990    NaN  Their achievement remains one of the greatest ...\n",
      "201991    NaN  At the same time Zuma’s revolutionary generati...\n",
      "201992    NaN  In a region that reveres the elderly Zuma’s at...\n",
      "201993    NaN  Three in ten South Africans are younger than 1...\n",
      "201994    NaN  Somehow Zuma must find a way to honor his own ...\n",
      "\n",
      "[141 rows x 2 columns]\n"
     ]
    }
   ],
   "source": [
    "print(final_data)"
   ]
  },
  {
   "cell_type": "code",
   "execution_count": 74,
   "id": "e39caaf1",
   "metadata": {},
   "outputs": [],
   "source": [
    "#building the model , considering fewer records for the modeling process\n",
    "german_sentences = final_data_df['German'].head(3000).values.astype(str)\n",
    "english_sentences = final_data_df['English'].head(3000).values.astype(str)"
   ]
  },
  {
   "cell_type": "code",
   "execution_count": 108,
   "id": "18763d83",
   "metadata": {},
   "outputs": [],
   "source": [
    "from keras.models import Sequential\n",
    "from keras.layers import Dense, SimpleRNN\n",
    "from keras.preprocessing.text import Tokenizer\n",
    "from keras.preprocessing.sequence import pad_sequences\n",
    "from keras.models import Model\n",
    "from keras.layers import LSTM, Input, TimeDistributed, Dense, Activation, RepeatVector, Embedding,GRU,Dropout\n",
    "from keras.optimizers import Adam\n",
    "from keras.losses import sparse_categorical_crossentropy"
   ]
  },
  {
   "cell_type": "code",
   "execution_count": 31,
   "id": "9f86a7f6",
   "metadata": {},
   "outputs": [],
   "source": [
    "#define the tokenizer\n",
    "def tokenize(sentences):\n",
    "    # Create tokenizer\n",
    "    text_tokenizer = Tokenizer()\n",
    "    # Fit texts\n",
    "    text_tokenizer.fit_on_texts(sentences)\n",
    "    return text_tokenizer.texts_to_sequences(sentences), text_tokenizer"
   ]
  },
  {
   "cell_type": "code",
   "execution_count": 104,
   "id": "1dca3aa2",
   "metadata": {},
   "outputs": [],
   "source": [
    "#creating padding function to match the sequence length\n",
    "from tensorflow.keras.preprocessing.sequence import pad_sequences\n",
    "\n",
    "def padding(sentences,length=None):\n",
    "    return pad_sequences(sentences, padding=\"post\", truncating=\"post\", maxlen=length)\n",
    "   "
   ]
  },
  {
   "cell_type": "code",
   "execution_count": 148,
   "id": "9878e35d",
   "metadata": {},
   "outputs": [
    {
     "name": "stdout",
     "output_type": "stream",
     "text": [
      "`logits_to_text` function loaded.\n"
     ]
    }
   ],
   "source": [
    "#define the function to convert the numerals to text\n",
    "def logits_to_text(logits, tokenizer):\n",
    "    \"\"\"\n",
    "    Turn logits from a neural network into text using the tokenizer\n",
    "    :param logits: Logits from a neural network\n",
    "    :param tokenizer: Keras Tokenizer fit on the labels\n",
    "    :return: String that represents the text of the logits\n",
    "    \"\"\"\n",
    "    index_to_words = {id: word for word, id in tokenizer.word_index.items()}\n",
    "    index_to_words[0] = '<PAD>'\n",
    "\n",
    "    return ' '.join([index_to_words[prediction] for prediction in np.argmax(logits, 1)])\n",
    "\n",
    "print('`logits_to_text` function loaded.')"
   ]
  },
  {
   "cell_type": "code",
   "execution_count": 75,
   "id": "aff1bdd2",
   "metadata": {},
   "outputs": [
    {
     "name": "stdout",
     "output_type": "stream",
     "text": [
      "Maximum length english sentence: 93\n",
      "Maximum length german sentence: 89\n",
      "English vocabulary is of 9163 unique words\n",
      "german vocabulary is of 12931 unique words\n"
     ]
    }
   ],
   "source": [
    "# Tokenize words\n",
    "\n",
    "\n",
    "eng_text_tokenized, eng_text_tokenizer = tokenize(english_sentences)\n",
    "german_text_tokenized, german_text_tokenizer = tokenize(german_sentences)\n",
    "\n",
    "print('Maximum length english sentence: {}'.format(len(max(eng_text_tokenized,key=len))))\n",
    "print('Maximum length german sentence: {}'.format(len(max(german_text_tokenized,key=len))))\n",
    "\n",
    "# Check language length\n",
    "english_vocab = len(eng_text_tokenizer.word_index) + 1\n",
    "german_vocab = len(german_text_tokenizer.word_index) + 1\n",
    "\n",
    "print(\"English vocabulary is of {} unique words\".format(english_vocab))\n",
    "print(\"german vocabulary is of {} unique words\".format(german_vocab))"
   ]
  },
  {
   "cell_type": "code",
   "execution_count": 154,
   "id": "11e1853a",
   "metadata": {},
   "outputs": [],
   "source": [
    "# Try experimenting with the size of that dataset\n",
    "max_english_len = int(len(max(eng_text_tokenized,key=len)))\n",
    "max_german_len = int(len(max(german_text_tokenized,key=len)))\n",
    "\n",
    "eng_pad_sentence = pad_sequences(eng_text_tokenized, max_english_len, padding = \"post\")\n",
    "german_pad_sentence = pad_sequences(german_text_tokenized, max_german_len, padding = \"post\")\n",
    "\n",
    "# Reshape data\n",
    "eng_pad_sentence = eng_pad_sentence.reshape(*eng_pad_sentence.shape, 1)\n",
    "german_pad_sentence = german_pad_sentence.reshape(*german_pad_sentence.shape, 1)\n",
    "\n"
   ]
  },
  {
   "cell_type": "code",
   "execution_count": 123,
   "id": "544e34c9",
   "metadata": {},
   "outputs": [],
   "source": [
    "#parameters for LSTM model\n",
    "input_sequence = Input(shape=(max_english_len,))\n",
    "embedding = Embedding(input_dim=english_vocab, output_dim=128,)(input_sequence)\n",
    "encoder = LSTM(64, return_sequences=False)(embedding)\n",
    "r_vec = RepeatVector(max_german_len)(encoder)\n",
    "decoder = LSTM(64, return_sequences=True, dropout=0.2)(r_vec)\n",
    "logits = TimeDistributed(Dense(german_vocab))(decoder)"
   ]
  },
  {
   "cell_type": "code",
   "execution_count": 124,
   "id": "fd566d3f",
   "metadata": {},
   "outputs": [
    {
     "name": "stdout",
     "output_type": "stream",
     "text": [
      "Model: \"model\"\n",
      "_________________________________________________________________\n",
      " Layer (type)                Output Shape              Param #   \n",
      "=================================================================\n",
      " input_1 (InputLayer)        [(None, 93)]              0         \n",
      "                                                                 \n",
      " embedding (Embedding)       (None, 93, 128)           1172864   \n",
      "                                                                 \n",
      " lstm (LSTM)                 (None, 64)                49408     \n",
      "                                                                 \n",
      " repeat_vector (RepeatVecto  (None, 89, 64)            0         \n",
      " r)                                                              \n",
      "                                                                 \n",
      " lstm_1 (LSTM)               (None, 89, 64)            33024     \n",
      "                                                                 \n",
      " time_distributed_10 (TimeD  (None, 89, 12931)         840515    \n",
      " istributed)                                                     \n",
      "                                                                 \n",
      " activation (Activation)     (None, 89, 12931)         0         \n",
      "                                                                 \n",
      "=================================================================\n",
      "Total params: 2095811 (7.99 MB)\n",
      "Trainable params: 2095811 (7.99 MB)\n",
      "Non-trainable params: 0 (0.00 Byte)\n",
      "_________________________________________________________________\n"
     ]
    }
   ],
   "source": [
    "#Build the model\n",
    "enc_dec_model = Model(input_sequence, Activation('softmax')(logits))\n",
    "enc_dec_model.compile(loss=sparse_categorical_crossentropy,\n",
    "              optimizer=Adam(1e-3),\n",
    "              metrics=['accuracy'])\n",
    "enc_dec_model.summary()"
   ]
  },
  {
   "cell_type": "code",
   "execution_count": 125,
   "id": "54715d9c",
   "metadata": {},
   "outputs": [],
   "source": [
    "#split the data into test and train\n",
    "from sklearn.model_selection import train_test_split\n",
    "from nltk.translate.bleu_score import sentence_bleu, SmoothingFunction\n",
    "X_train, X_test, y_train, y_test = train_test_split(eng_pad_sentence,german_pad_sentence,test_size=0.25,shuffle=True,random_state=101)"
   ]
  },
  {
   "cell_type": "code",
   "execution_count": 126,
   "id": "a78925ce",
   "metadata": {},
   "outputs": [
    {
     "name": "stdout",
     "output_type": "stream",
     "text": [
      "Epoch 1/50\n",
      "18/18 [==============================] - ETA: 0s - loss: 9.1490 - accuracy: 0.7095\n",
      "Epoch 1: val_accuracy improved from -inf to 0.74087, saving model to checkpoint\\\n",
      "INFO:tensorflow:Assets written to: checkpoint\\assets\n"
     ]
    },
    {
     "name": "stderr",
     "output_type": "stream",
     "text": [
      "INFO:tensorflow:Assets written to: checkpoint\\assets\n"
     ]
    },
    {
     "name": "stdout",
     "output_type": "stream",
     "text": [
      "18/18 [==============================] - 65s 3s/step - loss: 9.1490 - accuracy: 0.7095 - val_loss: 8.3199 - val_accuracy: 0.7409 - lr: 0.0010\n",
      "Epoch 2/50\n",
      "18/18 [==============================] - ETA: 0s - loss: 7.2191 - accuracy: 0.7520\n",
      "Epoch 2: val_accuracy did not improve from 0.74087\n",
      "18/18 [==============================] - 39s 2s/step - loss: 7.2191 - accuracy: 0.7520 - val_loss: 5.9471 - val_accuracy: 0.7409 - lr: 0.0010\n",
      "Epoch 3/50\n",
      "18/18 [==============================] - ETA: 0s - loss: 4.9269 - accuracy: 0.7520\n",
      "Epoch 3: val_accuracy did not improve from 0.74087\n",
      "18/18 [==============================] - 38s 2s/step - loss: 4.9269 - accuracy: 0.7520 - val_loss: 3.9160 - val_accuracy: 0.7409 - lr: 0.0010\n",
      "Epoch 4/50\n",
      "18/18 [==============================] - ETA: 0s - loss: 3.1636 - accuracy: 0.7520\n",
      "Epoch 4: val_accuracy did not improve from 0.74087\n",
      "18/18 [==============================] - 39s 2s/step - loss: 3.1636 - accuracy: 0.7520 - val_loss: 2.7075 - val_accuracy: 0.7409 - lr: 0.0010\n",
      "Epoch 5/50\n",
      "18/18 [==============================] - ETA: 0s - loss: 2.4763 - accuracy: 0.7520\n",
      "Epoch 5: val_accuracy did not improve from 0.74087\n",
      "18/18 [==============================] - 40s 2s/step - loss: 2.4763 - accuracy: 0.7520 - val_loss: 2.5207 - val_accuracy: 0.7409 - lr: 0.0010\n",
      "Epoch 6/50\n",
      "18/18 [==============================] - ETA: 0s - loss: 2.3895 - accuracy: 0.7520\n",
      "Epoch 6: val_accuracy did not improve from 0.74087\n",
      "18/18 [==============================] - 39s 2s/step - loss: 2.3895 - accuracy: 0.7520 - val_loss: 2.4996 - val_accuracy: 0.7409 - lr: 0.0010\n",
      "Epoch 7/50\n",
      "18/18 [==============================] - ETA: 0s - loss: 2.3670 - accuracy: 0.7520\n",
      "Epoch 7: val_accuracy did not improve from 0.74087\n",
      "18/18 [==============================] - 39s 2s/step - loss: 2.3670 - accuracy: 0.7520 - val_loss: 2.4870 - val_accuracy: 0.7409 - lr: 0.0010\n",
      "Epoch 8/50\n",
      "18/18 [==============================] - ETA: 0s - loss: 2.3462 - accuracy: 0.7520\n",
      "Epoch 8: val_accuracy did not improve from 0.74087\n",
      "18/18 [==============================] - 42s 2s/step - loss: 2.3462 - accuracy: 0.7520 - val_loss: 2.4560 - val_accuracy: 0.7409 - lr: 0.0010\n",
      "Epoch 9/50\n",
      "18/18 [==============================] - ETA: 0s - loss: 2.3070 - accuracy: 0.7520\n",
      "Epoch 9: val_accuracy did not improve from 0.74087\n",
      "18/18 [==============================] - 55s 3s/step - loss: 2.3070 - accuracy: 0.7520 - val_loss: 2.4198 - val_accuracy: 0.7409 - lr: 0.0010\n",
      "Epoch 10/50\n",
      "18/18 [==============================] - ETA: 0s - loss: 2.2566 - accuracy: 0.7520\n",
      "Epoch 10: val_accuracy did not improve from 0.74087\n",
      "18/18 [==============================] - 45s 2s/step - loss: 2.2566 - accuracy: 0.7520 - val_loss: 2.3524 - val_accuracy: 0.7409 - lr: 0.0010\n",
      "Epoch 11/50\n",
      "18/18 [==============================] - ETA: 0s - loss: 2.1986 - accuracy: 0.7520\n",
      "Epoch 11: val_accuracy did not improve from 0.74087\n",
      "18/18 [==============================] - 37s 2s/step - loss: 2.1986 - accuracy: 0.7520 - val_loss: 2.3163 - val_accuracy: 0.7409 - lr: 0.0010\n",
      "Epoch 12/50\n",
      "18/18 [==============================] - ETA: 0s - loss: 2.1599 - accuracy: 0.7520\n",
      "Epoch 12: val_accuracy did not improve from 0.74087\n",
      "18/18 [==============================] - 37s 2s/step - loss: 2.1599 - accuracy: 0.7520 - val_loss: 2.2752 - val_accuracy: 0.7409 - lr: 0.0010\n",
      "Epoch 13/50\n",
      "18/18 [==============================] - ETA: 0s - loss: 2.1326 - accuracy: 0.7520\n",
      "Epoch 13: val_accuracy did not improve from 0.74087\n",
      "18/18 [==============================] - 37s 2s/step - loss: 2.1326 - accuracy: 0.7520 - val_loss: 2.2582 - val_accuracy: 0.7409 - lr: 0.0010\n",
      "Epoch 14/50\n",
      "18/18 [==============================] - ETA: 0s - loss: 2.1166 - accuracy: 0.7520\n",
      "Epoch 14: val_accuracy did not improve from 0.74087\n",
      "18/18 [==============================] - 38s 2s/step - loss: 2.1166 - accuracy: 0.7520 - val_loss: 2.2510 - val_accuracy: 0.7409 - lr: 0.0010\n",
      "Epoch 15/50\n",
      "18/18 [==============================] - ETA: 0s - loss: 2.0978 - accuracy: 0.7520\n",
      "Epoch 15: val_accuracy did not improve from 0.74087\n",
      "18/18 [==============================] - 41s 2s/step - loss: 2.0978 - accuracy: 0.7520 - val_loss: 2.2414 - val_accuracy: 0.7409 - lr: 0.0010\n",
      "Epoch 16/50\n",
      "18/18 [==============================] - ETA: 0s - loss: 2.0908 - accuracy: 0.7520\n",
      "Epoch 16: val_accuracy did not improve from 0.74087\n",
      "18/18 [==============================] - 39s 2s/step - loss: 2.0908 - accuracy: 0.7520 - val_loss: 2.2372 - val_accuracy: 0.7409 - lr: 0.0010\n",
      "Epoch 17/50\n",
      "18/18 [==============================] - ETA: 0s - loss: 2.0822 - accuracy: 0.7520\n",
      "Epoch 17: val_accuracy did not improve from 0.74087\n",
      "18/18 [==============================] - 40s 2s/step - loss: 2.0822 - accuracy: 0.7520 - val_loss: 2.2348 - val_accuracy: 0.7409 - lr: 0.0010\n",
      "Epoch 18/50\n",
      "18/18 [==============================] - ETA: 0s - loss: 2.0745 - accuracy: 0.7520\n",
      "Epoch 18: val_accuracy did not improve from 0.74087\n",
      "18/18 [==============================] - 40s 2s/step - loss: 2.0745 - accuracy: 0.7520 - val_loss: 2.2353 - val_accuracy: 0.7409 - lr: 0.0010\n",
      "Epoch 19/50\n",
      "18/18 [==============================] - ETA: 0s - loss: 2.0688 - accuracy: 0.7520\n",
      "Epoch 19: val_accuracy did not improve from 0.74087\n",
      "18/18 [==============================] - 40s 2s/step - loss: 2.0688 - accuracy: 0.7520 - val_loss: 2.2366 - val_accuracy: 0.7409 - lr: 0.0010\n",
      "Epoch 20/50\n",
      "18/18 [==============================] - ETA: 0s - loss: 2.0711 - accuracy: 0.7520\n",
      "Epoch 20: val_accuracy did not improve from 0.74087\n",
      "18/18 [==============================] - 38s 2s/step - loss: 2.0711 - accuracy: 0.7520 - val_loss: 2.2359 - val_accuracy: 0.7409 - lr: 0.0010\n",
      "Epoch 21/50\n",
      "18/18 [==============================] - ETA: 0s - loss: 2.0634 - accuracy: 0.7520\n",
      "Epoch 21: val_accuracy did not improve from 0.74087\n",
      "18/18 [==============================] - 38s 2s/step - loss: 2.0634 - accuracy: 0.7520 - val_loss: 2.2337 - val_accuracy: 0.7409 - lr: 0.0010\n",
      "Epoch 22/50\n",
      "18/18 [==============================] - ETA: 0s - loss: 2.0575 - accuracy: 0.7520\n",
      "Epoch 22: val_accuracy did not improve from 0.74087\n",
      "18/18 [==============================] - 38s 2s/step - loss: 2.0575 - accuracy: 0.7520 - val_loss: 2.2341 - val_accuracy: 0.7409 - lr: 0.0010\n",
      "Epoch 23/50\n",
      "18/18 [==============================] - ETA: 0s - loss: 2.0539 - accuracy: 0.7520\n",
      "Epoch 23: val_accuracy did not improve from 0.74087\n",
      "18/18 [==============================] - 38s 2s/step - loss: 2.0539 - accuracy: 0.7520 - val_loss: 2.2349 - val_accuracy: 0.7409 - lr: 0.0010\n",
      "Epoch 24/50\n",
      "18/18 [==============================] - ETA: 0s - loss: 2.0506 - accuracy: 0.7520\n",
      "Epoch 24: val_accuracy did not improve from 0.74087\n",
      "18/18 [==============================] - 40s 2s/step - loss: 2.0506 - accuracy: 0.7520 - val_loss: 2.2325 - val_accuracy: 0.7409 - lr: 0.0010\n",
      "Epoch 25/50\n",
      "18/18 [==============================] - ETA: 0s - loss: 2.0489 - accuracy: 0.7520\n",
      "Epoch 25: val_accuracy did not improve from 0.74087\n",
      "18/18 [==============================] - 40s 2s/step - loss: 2.0489 - accuracy: 0.7520 - val_loss: 2.2625 - val_accuracy: 0.7409 - lr: 0.0010\n",
      "Epoch 26/50\n",
      "18/18 [==============================] - ETA: 0s - loss: 2.0546 - accuracy: 0.7520\n",
      "Epoch 26: val_accuracy did not improve from 0.74087\n",
      "18/18 [==============================] - 39s 2s/step - loss: 2.0546 - accuracy: 0.7520 - val_loss: 2.2347 - val_accuracy: 0.7409 - lr: 0.0010\n",
      "Epoch 27/50\n",
      "18/18 [==============================] - ETA: 0s - loss: 2.0471 - accuracy: 0.7520\n",
      "Epoch 27: val_accuracy did not improve from 0.74087\n",
      "18/18 [==============================] - 43s 2s/step - loss: 2.0471 - accuracy: 0.7520 - val_loss: 2.2385 - val_accuracy: 0.7409 - lr: 0.0010\n",
      "Epoch 28/50\n",
      "18/18 [==============================] - ETA: 0s - loss: 2.0468 - accuracy: 0.7520\n",
      "Epoch 28: val_accuracy did not improve from 0.74087\n",
      "18/18 [==============================] - 42s 2s/step - loss: 2.0468 - accuracy: 0.7520 - val_loss: 2.2444 - val_accuracy: 0.7409 - lr: 0.0010\n",
      "Epoch 29/50\n",
      "18/18 [==============================] - ETA: 0s - loss: 2.0392 - accuracy: 0.7520\n",
      "Epoch 29: val_accuracy did not improve from 0.74087\n",
      "18/18 [==============================] - 39s 2s/step - loss: 2.0392 - accuracy: 0.7520 - val_loss: 2.2372 - val_accuracy: 0.7409 - lr: 0.0010\n"
     ]
    },
    {
     "name": "stdout",
     "output_type": "stream",
     "text": [
      "Epoch 30/50\n",
      "18/18 [==============================] - ETA: 0s - loss: 2.0390 - accuracy: 0.7523\n",
      "Epoch 30: val_accuracy improved from 0.74087 to 0.74177, saving model to checkpoint\\\n",
      "INFO:tensorflow:Assets written to: checkpoint\\assets\n"
     ]
    },
    {
     "name": "stderr",
     "output_type": "stream",
     "text": [
      "INFO:tensorflow:Assets written to: checkpoint\\assets\n"
     ]
    },
    {
     "name": "stdout",
     "output_type": "stream",
     "text": [
      "18/18 [==============================] - 45s 3s/step - loss: 2.0390 - accuracy: 0.7523 - val_loss: 2.2393 - val_accuracy: 0.7418 - lr: 0.0010\n",
      "Epoch 31/50\n",
      "18/18 [==============================] - ETA: 0s - loss: 2.0378 - accuracy: 0.7527\n",
      "Epoch 31: val_accuracy did not improve from 0.74177\n",
      "18/18 [==============================] - 39s 2s/step - loss: 2.0378 - accuracy: 0.7527 - val_loss: 2.2405 - val_accuracy: 0.7418 - lr: 0.0010\n",
      "Epoch 32/50\n",
      "18/18 [==============================] - ETA: 0s - loss: 2.0353 - accuracy: 0.7535\n",
      "Epoch 32: val_accuracy improved from 0.74177 to 0.74378, saving model to checkpoint\\\n",
      "INFO:tensorflow:Assets written to: checkpoint\\assets\n"
     ]
    },
    {
     "name": "stderr",
     "output_type": "stream",
     "text": [
      "INFO:tensorflow:Assets written to: checkpoint\\assets\n"
     ]
    },
    {
     "name": "stdout",
     "output_type": "stream",
     "text": [
      "18/18 [==============================] - 56s 3s/step - loss: 2.0353 - accuracy: 0.7535 - val_loss: 2.2425 - val_accuracy: 0.7438 - lr: 0.0010\n",
      "Epoch 33/50\n",
      "18/18 [==============================] - ETA: 0s - loss: 2.0345 - accuracy: 0.7541\n",
      "Epoch 33: val_accuracy did not improve from 0.74378\n",
      "18/18 [==============================] - 40s 2s/step - loss: 2.0345 - accuracy: 0.7541 - val_loss: 2.2409 - val_accuracy: 0.7438 - lr: 0.0010\n",
      "Epoch 34/50\n",
      "18/18 [==============================] - ETA: 0s - loss: 2.0330 - accuracy: 0.7547\n",
      "Epoch 34: val_accuracy did not improve from 0.74378\n",
      "18/18 [==============================] - 40s 2s/step - loss: 2.0330 - accuracy: 0.7547 - val_loss: 2.2432 - val_accuracy: 0.7438 - lr: 0.0010\n",
      "Epoch 35/50\n",
      "18/18 [==============================] - ETA: 0s - loss: 2.0309 - accuracy: 0.7548\n",
      "Epoch 35: val_accuracy improved from 0.74378 to 0.74404, saving model to checkpoint\\\n",
      "INFO:tensorflow:Assets written to: checkpoint\\assets\n"
     ]
    },
    {
     "name": "stderr",
     "output_type": "stream",
     "text": [
      "INFO:tensorflow:Assets written to: checkpoint\\assets\n"
     ]
    },
    {
     "name": "stdout",
     "output_type": "stream",
     "text": [
      "18/18 [==============================] - 45s 3s/step - loss: 2.0309 - accuracy: 0.7548 - val_loss: 2.2454 - val_accuracy: 0.7440 - lr: 0.0010\n",
      "Epoch 36/50\n",
      "18/18 [==============================] - ETA: 0s - loss: 2.0290 - accuracy: 0.7549\n",
      "Epoch 36: val_accuracy did not improve from 0.74404\n",
      "18/18 [==============================] - 39s 2s/step - loss: 2.0290 - accuracy: 0.7549 - val_loss: 2.2476 - val_accuracy: 0.7440 - lr: 0.0010\n",
      "Epoch 37/50\n",
      "18/18 [==============================] - ETA: 0s - loss: 2.0301 - accuracy: 0.7550\n",
      "Epoch 37: val_accuracy did not improve from 0.74404\n",
      "18/18 [==============================] - 39s 2s/step - loss: 2.0301 - accuracy: 0.7550 - val_loss: 2.2519 - val_accuracy: 0.7440 - lr: 0.0010\n",
      "Epoch 38/50\n",
      "18/18 [==============================] - ETA: 0s - loss: 2.0295 - accuracy: 0.7549\n",
      "Epoch 38: val_accuracy did not improve from 0.74404\n",
      "18/18 [==============================] - 39s 2s/step - loss: 2.0295 - accuracy: 0.7549 - val_loss: 2.2466 - val_accuracy: 0.7440 - lr: 0.0010\n",
      "Epoch 39/50\n",
      "18/18 [==============================] - ETA: 0s - loss: 2.0254 - accuracy: 0.7551\n",
      "Epoch 39: val_accuracy did not improve from 0.74404\n",
      "18/18 [==============================] - 39s 2s/step - loss: 2.0254 - accuracy: 0.7551 - val_loss: 2.2495 - val_accuracy: 0.7440 - lr: 0.0010\n",
      "Epoch 40/50\n",
      "18/18 [==============================] - ETA: 0s - loss: 2.0234 - accuracy: 0.7550\n",
      "Epoch 40: val_accuracy did not improve from 0.74404\n",
      "18/18 [==============================] - 39s 2s/step - loss: 2.0234 - accuracy: 0.7550 - val_loss: 2.2567 - val_accuracy: 0.7440 - lr: 0.0010\n",
      "Epoch 41/50\n",
      "18/18 [==============================] - ETA: 0s - loss: 2.0235 - accuracy: 0.7549\n",
      "Epoch 41: val_accuracy did not improve from 0.74404\n",
      "18/18 [==============================] - 39s 2s/step - loss: 2.0235 - accuracy: 0.7549 - val_loss: 2.2496 - val_accuracy: 0.7440 - lr: 0.0010\n",
      "Epoch 42/50\n",
      "18/18 [==============================] - ETA: 0s - loss: 2.0224 - accuracy: 0.7550\n",
      "Epoch 42: val_accuracy did not improve from 0.74404\n",
      "18/18 [==============================] - 39s 2s/step - loss: 2.0224 - accuracy: 0.7550 - val_loss: 2.2578 - val_accuracy: 0.7440 - lr: 0.0010\n",
      "Epoch 43/50\n",
      "18/18 [==============================] - ETA: 0s - loss: 2.0233 - accuracy: 0.7550\n",
      "Epoch 43: val_accuracy did not improve from 0.74404\n",
      "18/18 [==============================] - 40s 2s/step - loss: 2.0233 - accuracy: 0.7550 - val_loss: 2.2522 - val_accuracy: 0.7439 - lr: 0.0010\n",
      "Epoch 44/50\n",
      "18/18 [==============================] - ETA: 0s - loss: 2.0219 - accuracy: 0.7550\n",
      "Epoch 44: val_accuracy did not improve from 0.74404\n",
      "18/18 [==============================] - 40s 2s/step - loss: 2.0219 - accuracy: 0.7550 - val_loss: 2.2552 - val_accuracy: 0.7440 - lr: 0.0010\n",
      "Epoch 45/50\n",
      "18/18 [==============================] - ETA: 0s - loss: 2.0181 - accuracy: 0.7551\n",
      "Epoch 45: val_accuracy did not improve from 0.74404\n",
      "18/18 [==============================] - 38s 2s/step - loss: 2.0181 - accuracy: 0.7551 - val_loss: 2.2605 - val_accuracy: 0.7440 - lr: 0.0010\n",
      "Epoch 46/50\n",
      "18/18 [==============================] - ETA: 0s - loss: 2.0181 - accuracy: 0.7551\n",
      "Epoch 46: val_accuracy did not improve from 0.74404\n",
      "18/18 [==============================] - 39s 2s/step - loss: 2.0181 - accuracy: 0.7551 - val_loss: 2.2551 - val_accuracy: 0.7440 - lr: 0.0010\n",
      "Epoch 47/50\n",
      "18/18 [==============================] - ETA: 0s - loss: 2.0154 - accuracy: 0.7550\n",
      "Epoch 47: val_accuracy did not improve from 0.74404\n",
      "18/18 [==============================] - 39s 2s/step - loss: 2.0154 - accuracy: 0.7550 - val_loss: 2.2591 - val_accuracy: 0.7440 - lr: 0.0010\n",
      "Epoch 48/50\n",
      "18/18 [==============================] - ETA: 0s - loss: 2.0170 - accuracy: 0.7550\n",
      "Epoch 48: val_accuracy did not improve from 0.74404\n",
      "18/18 [==============================] - 39s 2s/step - loss: 2.0170 - accuracy: 0.7550 - val_loss: 2.2584 - val_accuracy: 0.7440 - lr: 0.0010\n",
      "Epoch 49/50\n",
      "18/18 [==============================] - ETA: 0s - loss: 2.0128 - accuracy: 0.7550\n",
      "Epoch 49: val_accuracy did not improve from 0.74404\n",
      "18/18 [==============================] - 39s 2s/step - loss: 2.0128 - accuracy: 0.7550 - val_loss: 2.2577 - val_accuracy: 0.7440 - lr: 0.0010\n",
      "Epoch 50/50\n",
      "18/18 [==============================] - ETA: 0s - loss: 2.0130 - accuracy: 0.7551\n",
      "Epoch 50: val_accuracy did not improve from 0.74404\n",
      "18/18 [==============================] - 40s 2s/step - loss: 2.0130 - accuracy: 0.7551 - val_loss: 2.2586 - val_accuracy: 0.7439 - lr: 0.0010\n"
     ]
    }
   ],
   "source": [
    "#fit the model\n",
    "from tensorflow.keras.callbacks import EarlyStopping, ReduceLROnPlateau, ModelCheckpoint\n",
    "es = EarlyStopping(monitor='val_accuracy',mode='max',verbose=1,patience=40)\n",
    "rl = ReduceLROnPlateau(monitor='val_accuracy',mode='max',verbose=1,patience=5,factor=0.1,min_lr=0.001)\n",
    "mc = ModelCheckpoint('checkpoint/',monitor='val_accuracy',verbose=1,mode='max',save_best_only=True)\n",
    "\n",
    "r = enc_dec_model.fit(X_train,y_train,          \n",
    "          validation_data=(X_test,y_test),\n",
    "          epochs=50, batch_size=128, callbacks=[es,rl,mc])"
   ]
  },
  {
   "cell_type": "code",
   "execution_count": 165,
   "id": "1d30afa9",
   "metadata": {},
   "outputs": [
    {
     "data": {
      "image/png": "[encoded data removed]",
      "text/plain": [
       "<Figure size 640x480 with 1 Axes>"
      ]
     },
     "metadata": {},
     "output_type": "display_data"
    }
   ],
   "source": [
    "#Plot the loss of the model\n",
    "import matplotlib.pyplot as plt\n",
    "plt.plot(r.history['loss'],'r',label='train loss')\n",
    "plt.plot(r.history['val_loss'],'b',label='test loss')\n",
    "plt.xlabel('No. of Epochs')\n",
    "plt.ylabel('Loss')\n",
    "plt.title('Loss Graph')\n",
    "plt.legend();"
   ]
  },
  {
   "cell_type": "code",
   "execution_count": 166,
   "id": "c94b2b55",
   "metadata": {},
   "outputs": [
    {
     "data": {
      "image/png": "[encoded data removed]",
      "text/plain": [
       "<Figure size 640x480 with 1 Axes>"
      ]
     },
     "metadata": {},
     "output_type": "display_data"
    }
   ],
   "source": [
    "#plot the accurecy of the model\n",
    "plt.plot(r.history['accuracy'],'r',label='train accuracy')\n",
    "plt.plot(r.history['val_accuracy'],'b',label='test accuracy')\n",
    "plt.xlabel('No. of Epochs')\n",
    "plt.ylabel('Accuracy')\n",
    "plt.title('Accuracy Graph')\n",
    "plt.legend();"
   ]
  },
  {
   "cell_type": "code",
   "execution_count": 130,
   "id": "5f60f127",
   "metadata": {},
   "outputs": [],
   "source": [
    "#Defining GRU model\n",
    "def simple_model(input_shape, output_sequence_length, eng_vocab, ger_vocab):\n",
    "    learning_rate = 0.005\n",
    "    # TODO: Build the layers\n",
    "    model = Sequential()\n",
    "    model.add(GRU(256, input_shape=input_shape[1:], return_sequences=True))\n",
    "    model.add(TimeDistributed(Dense(1024, activation='relu')))\n",
    "    model.add(Dropout(0.5))\n",
    "    model.add(TimeDistributed(Dense(german_vocab, activation='softmax'))) \n",
    "\n",
    "    # Compile model\n",
    "    model.compile(loss=sparse_categorical_crossentropy,\n",
    "                  optimizer=Adam(learning_rate),\n",
    "                  metrics=['accuracy'])\n",
    "    return model\n"
   ]
  },
  {
   "cell_type": "code",
   "execution_count": 131,
   "id": "9a1d54b2",
   "metadata": {},
   "outputs": [
    {
     "name": "stdout",
     "output_type": "stream",
     "text": [
      "(2700, 93, 1) (300, 93, 1)\n"
     ]
    }
   ],
   "source": [
    "#split the data train and test to use for the model\n",
    "from sklearn.model_selection import train_test_split\n",
    "X_train_english, X_test_english, y_train_german, y_test_german = train_test_split(eng_pad_sentence, german_pad_sentence, test_size = 0.1)\n",
    "print(X_train_english.shape, X_test_english.shape)"
   ]
  },
  {
   "cell_type": "code",
   "execution_count": 135,
   "id": "ce0ea57f",
   "metadata": {},
   "outputs": [],
   "source": [
    "#Define the simpleRNN model\n",
    "def create_RNN(hidden_units, dense_units, input_shape, activation):\n",
    "    model = Sequential()\n",
    "    model.add(SimpleRNN(hidden_units, input_shape=input_shape, activation=activation[0]))\n",
    "    model.add(Dense(units=dense_units, activation=activation[1]))\n",
    "    model.compile(loss='mean_squared_error', optimizer='adam')\n",
    "    return model\n",
    "#demo_model = create_RNN(2, 1, (3,1), activation=['linear', 'linear'])"
   ]
  },
  {
   "cell_type": "code",
   "execution_count": 167,
   "id": "8a07975a",
   "metadata": {},
   "outputs": [
    {
     "name": "stdout",
     "output_type": "stream",
     "text": [
      "Epoch 1/20\n",
      "3000/3000 - 28s - loss: 2936140.0000 - 28s/epoch - 9ms/step\n",
      "Epoch 2/20\n",
      "3000/3000 - 26s - loss: 2936107.0000 - 26s/epoch - 9ms/step\n",
      "Epoch 3/20\n",
      "3000/3000 - 26s - loss: 2936104.5000 - 26s/epoch - 9ms/step\n",
      "Epoch 4/20\n",
      "3000/3000 - 26s - loss: 2936106.7500 - 26s/epoch - 9ms/step\n",
      "Epoch 5/20\n",
      "3000/3000 - 27s - loss: 2936103.2500 - 27s/epoch - 9ms/step\n",
      "Epoch 6/20\n",
      "3000/3000 - 27s - loss: 2936106.0000 - 27s/epoch - 9ms/step\n",
      "Epoch 7/20\n",
      "3000/3000 - 25s - loss: 2936103.5000 - 25s/epoch - 8ms/step\n",
      "Epoch 8/20\n",
      "3000/3000 - 25s - loss: 2936104.5000 - 25s/epoch - 8ms/step\n",
      "Epoch 9/20\n",
      "3000/3000 - 25s - loss: 2936105.0000 - 25s/epoch - 8ms/step\n",
      "Epoch 10/20\n",
      "3000/3000 - 26s - loss: 2936105.2500 - 26s/epoch - 9ms/step\n",
      "Epoch 11/20\n",
      "3000/3000 - 26s - loss: 2936105.7500 - 26s/epoch - 9ms/step\n",
      "Epoch 12/20\n",
      "3000/3000 - 26s - loss: 2936104.2500 - 26s/epoch - 9ms/step\n",
      "Epoch 13/20\n",
      "3000/3000 - 26s - loss: 2936104.5000 - 26s/epoch - 9ms/step\n",
      "Epoch 14/20\n",
      "3000/3000 - 25s - loss: 2936103.5000 - 25s/epoch - 8ms/step\n",
      "Epoch 15/20\n",
      "3000/3000 - 26s - loss: 2936107.0000 - 26s/epoch - 9ms/step\n",
      "Epoch 16/20\n",
      "3000/3000 - 26s - loss: 2936106.0000 - 26s/epoch - 9ms/step\n",
      "Epoch 17/20\n",
      "3000/3000 - 26s - loss: 2936106.2500 - 26s/epoch - 9ms/step\n",
      "Epoch 18/20\n",
      "3000/3000 - 26s - loss: 2936106.7500 - 26s/epoch - 9ms/step\n",
      "Epoch 19/20\n",
      "3000/3000 - 26s - loss: 2936102.2500 - 26s/epoch - 9ms/step\n",
      "Epoch 20/20\n",
      "3000/3000 - 26s - loss: 2936102.2500 - 26s/epoch - 9ms/step\n"
     ]
    }
   ],
   "source": [
    "#fit the simple RNN model\n",
    "time_steps=93\n",
    "model = create_RNN(hidden_units=3, dense_units=1, input_shape=(time_steps,1), \n",
    "                   activation=['tanh', 'tanh'])\n",
    "r=model.fit(eng_pad_sentence, german_pad_sentence, epochs=20, batch_size=1, verbose=2)\n"
   ]
  },
  {
   "cell_type": "code",
   "execution_count": 170,
   "id": "fef32514",
   "metadata": {
    "scrolled": true
   },
   "outputs": [
    {
     "data": {
      "image/png": "[encoded data removed]",
      "text/plain": [
       "<Figure size 640x480 with 1 Axes>"
      ]
     },
     "metadata": {},
     "output_type": "display_data"
    }
   ],
   "source": [
    "#plot the loss for Simple RNN model\n",
    "plt.plot(r.history['loss'],'b',label='test loss')\n",
    "plt.xlabel('No. of Epochs')\n",
    "plt.ylabel('Loss')\n",
    "plt.title('Loss Graph')\n",
    "plt.legend();\n"
   ]
  },
  {
   "cell_type": "code",
   "execution_count": 177,
   "id": "6c08997e",
   "metadata": {},
   "outputs": [
    {
     "name": "stdout",
     "output_type": "stream",
     "text": [
      "Prediction using simple_rnn:\n",
      "1/1 [==============================] - 0s 298ms/step\n",
      "„radikalen“ erdbeben umfasst erdbeben ausgleichszahlungen ausgleichszahlungen gegenstand gegenstand gegenstand gegenstand kroatien prognostizieren prognostizieren prognostizieren prognostizieren prognostizieren prognostizieren prognostizieren prognostizieren prognostizieren 1944 1944 1944 1944 verliert knie perfekte perfekte perfekte perfekte perfekte perfekte perfekte perfekte einige einige einige ist <PAD> <PAD> <PAD> <PAD> <PAD> <PAD> <PAD> <PAD> <PAD> <PAD> <PAD> <PAD> <PAD> <PAD> <PAD> <PAD> <PAD> <PAD> <PAD> <PAD> <PAD> <PAD> <PAD> <PAD> <PAD> <PAD> <PAD> <PAD> <PAD> <PAD> <PAD> <PAD> <PAD> <PAD> <PAD> <PAD> <PAD> <PAD> <PAD> <PAD> <PAD> <PAD> <PAD> <PAD> <PAD> <PAD> <PAD> <PAD> <PAD> <PAD> <PAD> <PAD> <PAD> <PAD> <PAD>\n",
      "\n",
      "Correct Translation:\n",
      "['Steigt Gold auf 10000 Dollar']\n",
      "\n",
      "Original text:\n",
      "['10000 Gold']\n"
     ]
    }
   ],
   "source": [
    "# Print prediction(s) for simpleRNN model\n",
    "print(\"Prediction using simple_rnn:\")\n",
    "#print(eng_pad_sentence[:1])\n",
    "\n",
    "print(logits_to_text(simple_rnn_model.predict(eng_pad_sentence[:1])[0], german_text_tokenizer))\n",
    "\n",
    "\n",
    "print(\"\\nCorrect Translation:\")\n",
    "print(german_sentences[:1])\n",
    "\n",
    "print(\"\\nOriginal text:\")\n",
    "print(english_sentences[:1])"
   ]
  },
  {
   "cell_type": "code",
   "execution_count": 163,
   "id": "6aa3fafb",
   "metadata": {},
   "outputs": [
    {
     "name": "stdout",
     "output_type": "stream",
     "text": [
      "The english sentence is: Our efforts at normalization with Armenia for example are destined to bring change to the entire South Caucasus\n",
      "The german sentence is: Unseren Bemühungen um eine Normalisierung der Beziehung zu Armenien etwa ist es bestimmt einen Wandel im gesamten Südkaukasus herbeizuführen\n",
      "The predicted sentence is :\n",
      "1/1 [==============================] - 0s 63ms/step\n",
      "die die die die die die die <empty> <empty> <empty> <empty> <empty> <empty> <empty> <empty> <empty> <empty> <empty> <empty> <empty> <empty> <empty> <empty> <empty> <empty> <empty> <empty> <empty> <empty> <empty> <empty> <empty> <empty> <empty> <empty> <empty> <empty> <empty> <empty> <empty> <empty> <empty> <empty> <empty> <empty> <empty> <empty> <empty> <empty> <empty> <empty> <empty> <empty> <empty> <empty> <empty> <empty> <empty> <empty> <empty> <empty> <empty> <empty> <empty> <empty> <empty> <empty> <empty> <empty> <empty> <empty> <empty> <empty> <empty> <empty> <empty> <empty> <empty> <empty> <empty> <empty> <empty> <empty> <empty> <empty> <empty> <empty> <empty> <empty>\n",
      "1/1 [==============================] - 0s 55ms/step\n",
      "BLEU Score: 5.577517739324597e-232\n",
      "The english sentence is: We are doing our part in terms of burdensharing\n",
      "The german sentence is: Wir leisten unseren Teil was die Übernahme der Lasten angeht\n",
      "The predicted sentence is :\n",
      "1/1 [==============================] - 0s 72ms/step\n",
      "die die die die die die die <empty> <empty> <empty> <empty> <empty> <empty> <empty> <empty> <empty> <empty> <empty> <empty> <empty> <empty> <empty> <empty> <empty> <empty> <empty> <empty> <empty> <empty> <empty> <empty> <empty> <empty> <empty> <empty> <empty> <empty> <empty> <empty> <empty> <empty> <empty> <empty> <empty> <empty> <empty> <empty> <empty> <empty> <empty> <empty> <empty> <empty> <empty> <empty> <empty> <empty> <empty> <empty> <empty> <empty> <empty> <empty> <empty> <empty> <empty> <empty> <empty> <empty> <empty> <empty> <empty> <empty> <empty> <empty> <empty> <empty> <empty> <empty> <empty> <empty> <empty> <empty> <empty> <empty> <empty> <empty> <empty> <empty>\n"
     ]
    },
    {
     "name": "stderr",
     "output_type": "stream",
     "text": [
      "C:\\Users\\navit\\anaconda3\\Lib\\site-packages\\nltk\\translate\\bleu_score.py:552: UserWarning: \n",
      "The hypothesis contains 0 counts of 2-gram overlaps.\n",
      "Therefore the BLEU score evaluates to 0, independently of\n",
      "how many N-gram overlaps of lower order it contains.\n",
      "Consider using lower n-gram order or use SmoothingFunction()\n",
      "  warnings.warn(_msg)\n",
      "C:\\Users\\navit\\anaconda3\\Lib\\site-packages\\nltk\\translate\\bleu_score.py:552: UserWarning: \n",
      "The hypothesis contains 0 counts of 3-gram overlaps.\n",
      "Therefore the BLEU score evaluates to 0, independently of\n",
      "how many N-gram overlaps of lower order it contains.\n",
      "Consider using lower n-gram order or use SmoothingFunction()\n",
      "  warnings.warn(_msg)\n",
      "C:\\Users\\navit\\anaconda3\\Lib\\site-packages\\nltk\\translate\\bleu_score.py:552: UserWarning: \n",
      "The hypothesis contains 0 counts of 4-gram overlaps.\n",
      "Therefore the BLEU score evaluates to 0, independently of\n",
      "how many N-gram overlaps of lower order it contains.\n",
      "Consider using lower n-gram order or use SmoothingFunction()\n",
      "  warnings.warn(_msg)\n"
     ]
    },
    {
     "name": "stdout",
     "output_type": "stream",
     "text": [
      "1/1 [==============================] - 0s 64ms/step\n",
      "BLEU Score: 5.577517739324597e-232\n",
      "The english sentence is: Sensible Europeans understand that\n",
      "The german sentence is: Vernünftige Europäer verstehen das\n",
      "The predicted sentence is :\n",
      "1/1 [==============================] - 0s 54ms/step\n",
      "die die die die die die die <empty> <empty> <empty> <empty> <empty> <empty> <empty> <empty> <empty> <empty> <empty> <empty> <empty> <empty> <empty> <empty> <empty> <empty> <empty> <empty> <empty> <empty> <empty> <empty> <empty> <empty> <empty> <empty> <empty> <empty> <empty> <empty> <empty> <empty> <empty> <empty> <empty> <empty> <empty> <empty> <empty> <empty> <empty> <empty> <empty> <empty> <empty> <empty> <empty> <empty> <empty> <empty> <empty> <empty> <empty> <empty> <empty> <empty> <empty> <empty> <empty> <empty> <empty> <empty> <empty> <empty> <empty> <empty> <empty> <empty> <empty> <empty> <empty> <empty> <empty> <empty> <empty> <empty> <empty> <empty> <empty> <empty>\n",
      "1/1 [==============================] - 0s 47ms/step\n",
      "BLEU Score: 5.577517739324597e-232\n",
      "The english sentence is: To be sure some of our neighbors are difficult\n",
      "The german sentence is: Sicher einige unserer Nachbarn sind schwierig\n",
      "The predicted sentence is :\n",
      "1/1 [==============================] - 0s 47ms/step\n",
      "die die die die die die die <empty> <empty> <empty> <empty> <empty> <empty> <empty> <empty> <empty> <empty> <empty> <empty> <empty> <empty> <empty> <empty> <empty> <empty> <empty> <empty> <empty> <empty> <empty> <empty> <empty> <empty> <empty> <empty> <empty> <empty> <empty> <empty> <empty> <empty> <empty> <empty> <empty> <empty> <empty> <empty> <empty> <empty> <empty> <empty> <empty> <empty> <empty> <empty> <empty> <empty> <empty> <empty> <empty> <empty> <empty> <empty> <empty> <empty> <empty> <empty> <empty> <empty> <empty> <empty> <empty> <empty> <empty> <empty> <empty> <empty> <empty> <empty> <empty> <empty> <empty> <empty> <empty> <empty> <empty> <empty> <empty> <empty>\n",
      "1/1 [==============================] - 0s 61ms/step\n",
      "BLEU Score: 5.03985620442302e-232\n",
      "The english sentence is: But no country has the luxury of choosing its neighbors\n",
      "The german sentence is: Aber kein Land genießt den Luxus sich seine Nachbarn aussuchen zu können\n",
      "The predicted sentence is :\n",
      "1/1 [==============================] - 0s 57ms/step\n",
      "die die die die die die die <empty> <empty> <empty> <empty> <empty> <empty> <empty> <empty> <empty> <empty> <empty> <empty> <empty> <empty> <empty> <empty> <empty> <empty> <empty> <empty> <empty> <empty> <empty> <empty> <empty> <empty> <empty> <empty> <empty> <empty> <empty> <empty> <empty> <empty> <empty> <empty> <empty> <empty> <empty> <empty> <empty> <empty> <empty> <empty> <empty> <empty> <empty> <empty> <empty> <empty> <empty> <empty> <empty> <empty> <empty> <empty> <empty> <empty> <empty> <empty> <empty> <empty> <empty> <empty> <empty> <empty> <empty> <empty> <empty> <empty> <empty> <empty> <empty> <empty> <empty> <empty> <empty> <empty> <empty> <empty> <empty> <empty>\n",
      "1/1 [==============================] - 0s 56ms/step\n",
      "BLEU Score: 5.3289991224292876e-232\n",
      "The english sentence is: Turkey’s neighborhood policy is very realistic based on genuine interests not some romantic neoOttoman nostagia as more than a few international commentators have suggested\n",
      "The german sentence is: Die Nachbarschaftspolitik der Türkei ist sehr realistisch und beruht auf genuinen Interessen nicht romantischer neuottomanischer Verklärung wie es mehr als nur ein paar internationale Kommentatoren suggerieren\n",
      "The predicted sentence is :\n",
      "1/1 [==============================] - 0s 65ms/step\n",
      "die die die die die die die <empty> <empty> <empty> <empty> <empty> <empty> <empty> <empty> <empty> <empty> <empty> <empty> <empty> <empty> <empty> <empty> <empty> <empty> <empty> <empty> <empty> <empty> <empty> <empty> <empty> <empty> <empty> <empty> <empty> <empty> <empty> <empty> <empty> <empty> <empty> <empty> <empty> <empty> <empty> <empty> <empty> <empty> <empty> <empty> <empty> <empty> <empty> <empty> <empty> <empty> <empty> <empty> <empty> <empty> <empty> <empty> <empty> <empty> <empty> <empty> <empty> <empty> <empty> <empty> <empty> <empty> <empty> <empty> <empty> <empty> <empty> <empty> <empty> <empty> <empty> <empty> <empty> <empty> <empty> <empty> <empty> <empty>\n",
      "1/1 [==============================] - 0s 64ms/step\n",
      "BLEU Score: 5.796657728756031e-232\n",
      "The english sentence is: True there is a neoOttoman revival in the cultural field and our citizens are eager to rediscover Ottoman life culture and practices\n",
      "The german sentence is: Es gibt durchaus eine neuottomanische Wiederbelebung im kulturellen Bereich und unsere Bürger sind interessiert daran Leben Kultur und Praktiken der Ottomanen neu zu entdecken\n",
      "The predicted sentence is :\n",
      "1/1 [==============================] - 0s 56ms/step\n",
      "die die die die die die die <empty> <empty> <empty> <empty> <empty> <empty> <empty> <empty> <empty> <empty> <empty> <empty> <empty> <empty> <empty> <empty> <empty> <empty> <empty> <empty> <empty> <empty> <empty> <empty> <empty> <empty> <empty> <empty> <empty> <empty> <empty> <empty> <empty> <empty> <empty> <empty> <empty> <empty> <empty> <empty> <empty> <empty> <empty> <empty> <empty> <empty> <empty> <empty> <empty> <empty> <empty> <empty> <empty> <empty> <empty> <empty> <empty> <empty> <empty> <empty> <empty> <empty> <empty> <empty> <empty> <empty> <empty> <empty> <empty> <empty> <empty> <empty> <empty> <empty> <empty> <empty> <empty> <empty> <empty> <empty> <empty> <empty>\n",
      "1/1 [==============================] - 0s 58ms/step\n",
      "BLEU Score: 5.577517739324597e-232\n",
      "The english sentence is: As Turkey is normalizing domestically it is also reinterpreting its national historical narrative\n",
      "The german sentence is: Die Türkei normalisiert sich innenpolitisch und interpretiert dabei auch ihr nationalhistorisches Verständnis neu\n",
      "The predicted sentence is :\n",
      "1/1 [==============================] - 0s 56ms/step\n",
      "die die die die die die die <empty> <empty> <empty> <empty> <empty> <empty> <empty> <empty> <empty> <empty> <empty> <empty> <empty> <empty> <empty> <empty> <empty> <empty> <empty> <empty> <empty> <empty> <empty> <empty> <empty> <empty> <empty> <empty> <empty> <empty> <empty> <empty> <empty> <empty> <empty> <empty> <empty> <empty> <empty> <empty> <empty> <empty> <empty> <empty> <empty> <empty> <empty> <empty> <empty> <empty> <empty> <empty> <empty> <empty> <empty> <empty> <empty> <empty> <empty> <empty> <empty> <empty> <empty> <empty> <empty> <empty> <empty> <empty> <empty> <empty> <empty> <empty> <empty> <empty> <empty> <empty> <empty> <empty> <empty> <empty> <empty> <empty>\n",
      "1/1 [==============================] - 0s 53ms/step\n",
      "BLEU Score: 5.796657728756031e-232\n",
      "The english sentence is: This is a natural byproduct of consolidating our democracy\n",
      "The german sentence is: Dies ist ein natürliches Nebenprodukt der Konsolidierung unserer Demokratie\n",
      "The predicted sentence is :\n",
      "1/1 [==============================] - 0s 52ms/step\n",
      "die die die die die die die <empty> <empty> <empty> <empty> <empty> <empty> <empty> <empty> <empty> <empty> <empty> <empty> <empty> <empty> <empty> <empty> <empty> <empty> <empty> <empty> <empty> <empty> <empty> <empty> <empty> <empty> <empty> <empty> <empty> <empty> <empty> <empty> <empty> <empty> <empty> <empty> <empty> <empty> <empty> <empty> <empty> <empty> <empty> <empty> <empty> <empty> <empty> <empty> <empty> <empty> <empty> <empty> <empty> <empty> <empty> <empty> <empty> <empty> <empty> <empty> <empty> <empty> <empty> <empty> <empty> <empty> <empty> <empty> <empty> <empty> <empty> <empty> <empty> <empty> <empty> <empty> <empty> <empty> <empty> <empty> <empty> <empty>\n",
      "1/1 [==============================] - 0s 40ms/step\n",
      "BLEU Score: 5.796657728756031e-232\n",
      "The english sentence is: However trying to paint our carefully constructed foreignpolicy initiatives with imperialist overtones is not only a stark mispresentation but also does gross injustice to our wellintentioned efforts to stabilize our region\n",
      "The german sentence is: Der Versuch jedoch unseren sorgfältig konzipierten außenpolitischen Initiativen einen imperialistischen Anstrich zu verleihen ist nicht nur eine völlige Verdrehung der Tatsachen sondern fügt auch unseren wohlmeinenden Bemühungen zur Stabilisierung unserer Region grobes Unrecht zu\n",
      "The predicted sentence is :\n"
     ]
    },
    {
     "name": "stdout",
     "output_type": "stream",
     "text": [
      "1/1 [==============================] - 0s 56ms/step\n",
      "die die die die die die die <empty> <empty> <empty> <empty> <empty> <empty> <empty> <empty> <empty> <empty> <empty> <empty> <empty> <empty> <empty> <empty> <empty> <empty> <empty> <empty> <empty> <empty> <empty> <empty> <empty> <empty> <empty> <empty> <empty> <empty> <empty> <empty> <empty> <empty> <empty> <empty> <empty> <empty> <empty> <empty> <empty> <empty> <empty> <empty> <empty> <empty> <empty> <empty> <empty> <empty> <empty> <empty> <empty> <empty> <empty> <empty> <empty> <empty> <empty> <empty> <empty> <empty> <empty> <empty> <empty> <empty> <empty> <empty> <empty> <empty> <empty> <empty> <empty> <empty> <empty> <empty> <empty> <empty> <empty> <empty> <empty> <empty>\n",
      "1/1 [==============================] - 0s 36ms/step\n",
      "BLEU Score: 5.796657728756031e-232\n",
      "The english sentence is: In Roman mythology Janus was the god of gates doorways beginnings and endings\n",
      "The german sentence is: In der römischen Mythologie war Janus der Gott der Türen und Tore der Gott von Anfang und Ende\n",
      "The predicted sentence is :\n",
      "1/1 [==============================] - 0s 32ms/step\n",
      "die die die die die die die <empty> <empty> <empty> <empty> <empty> <empty> <empty> <empty> <empty> <empty> <empty> <empty> <empty> <empty> <empty> <empty> <empty> <empty> <empty> <empty> <empty> <empty> <empty> <empty> <empty> <empty> <empty> <empty> <empty> <empty> <empty> <empty> <empty> <empty> <empty> <empty> <empty> <empty> <empty> <empty> <empty> <empty> <empty> <empty> <empty> <empty> <empty> <empty> <empty> <empty> <empty> <empty> <empty> <empty> <empty> <empty> <empty> <empty> <empty> <empty> <empty> <empty> <empty> <empty> <empty> <empty> <empty> <empty> <empty> <empty> <empty> <empty> <empty> <empty> <empty> <empty> <empty> <empty> <empty> <empty> <empty> <empty>\n",
      "1/1 [==============================] - 0s 40ms/step\n",
      "BLEU Score: 5.796657728756031e-232\n",
      "The english sentence is: Turkey today is a Januslike geography that offers gates and doorways to the East and West\n",
      "The german sentence is: Die heutige Türkei mit ihrer janusartigen Geografie eröffnet dem Osten und dem Westen Türen und Tore\n",
      "The predicted sentence is :\n",
      "1/1 [==============================] - 0s 36ms/step\n",
      "die die die die die die die <empty> <empty> <empty> <empty> <empty> <empty> <empty> <empty> <empty> <empty> <empty> <empty> <empty> <empty> <empty> <empty> <empty> <empty> <empty> <empty> <empty> <empty> <empty> <empty> <empty> <empty> <empty> <empty> <empty> <empty> <empty> <empty> <empty> <empty> <empty> <empty> <empty> <empty> <empty> <empty> <empty> <empty> <empty> <empty> <empty> <empty> <empty> <empty> <empty> <empty> <empty> <empty> <empty> <empty> <empty> <empty> <empty> <empty> <empty> <empty> <empty> <empty> <empty> <empty> <empty> <empty> <empty> <empty> <empty> <empty> <empty> <empty> <empty> <empty> <empty> <empty> <empty> <empty> <empty> <empty> <empty> <empty>\n",
      "1/1 [==============================] - 0s 39ms/step\n",
      "BLEU Score: 5.577517739324597e-232\n",
      "The english sentence is: It offers beginnings and endings to the Caucasus the Black Sea the Balkans and the Mediterranean\n",
      "The german sentence is: Sie bietet dem Kaukasus der Schwarzmeerregion dem Balkan und dem Mittelmeer Gelegenheiten vom Neuanfang und auch dazu Dinge zu Abschluss zu bringen\n",
      "The predicted sentence is :\n",
      "1/1 [==============================] - 0s 32ms/step\n",
      "die die die die die die die <empty> <empty> <empty> <empty> <empty> <empty> <empty> <empty> <empty> <empty> <empty> <empty> <empty> <empty> <empty> <empty> <empty> <empty> <empty> <empty> <empty> <empty> <empty> <empty> <empty> <empty> <empty> <empty> <empty> <empty> <empty> <empty> <empty> <empty> <empty> <empty> <empty> <empty> <empty> <empty> <empty> <empty> <empty> <empty> <empty> <empty> <empty> <empty> <empty> <empty> <empty> <empty> <empty> <empty> <empty> <empty> <empty> <empty> <empty> <empty> <empty> <empty> <empty> <empty> <empty> <empty> <empty> <empty> <empty> <empty> <empty> <empty> <empty> <empty> <empty> <empty> <empty> <empty> <empty> <empty> <empty> <empty>\n",
      "1/1 [==============================] - 0s 32ms/step\n",
      "BLEU Score: 5.577517739324597e-232\n",
      "The english sentence is: In this capacity Turkey complements and contributes to a unique transitional passage between otherwise difficult regions for it signifies centuriesold coexistence and adjustment\n",
      "The german sentence is: In dieser Eigenschaft komplementiert und unterstützt die Türkei einen einzigartigen Übergang zwischen anderweitig schwierigen Regionen denn sie steht für jahrhundertealte Koexistenz und Anpassung\n",
      "The predicted sentence is :\n",
      "1/1 [==============================] - 0s 32ms/step\n",
      "die die die die die die die <empty> <empty> <empty> <empty> <empty> <empty> <empty> <empty> <empty> <empty> <empty> <empty> <empty> <empty> <empty> <empty> <empty> <empty> <empty> <empty> <empty> <empty> <empty> <empty> <empty> <empty> <empty> <empty> <empty> <empty> <empty> <empty> <empty> <empty> <empty> <empty> <empty> <empty> <empty> <empty> <empty> <empty> <empty> <empty> <empty> <empty> <empty> <empty> <empty> <empty> <empty> <empty> <empty> <empty> <empty> <empty> <empty> <empty> <empty> <empty> <empty> <empty> <empty> <empty> <empty> <empty> <empty> <empty> <empty> <empty> <empty> <empty> <empty> <empty> <empty> <empty> <empty> <empty> <empty> <empty> <empty> <empty>\n",
      "1/1 [==============================] - 0s 40ms/step\n",
      "BLEU Score: 5.796657728756031e-232\n",
      "The english sentence is: Turkish foreign policy contributes to that coming together and helps its immeditate neighborhoods to connect with one another\n",
      "The german sentence is: Die türkische Außenpolitik trägt zu diesem Aufeinanderzugehen bei und hilft ihren unmittelbaren Nachbarschaften den Kontakt zueinander zu finden\n",
      "The predicted sentence is :\n",
      "1/1 [==============================] - 0s 39ms/step\n",
      "die die die die die die die <empty> <empty> <empty> <empty> <empty> <empty> <empty> <empty> <empty> <empty> <empty> <empty> <empty> <empty> <empty> <empty> <empty> <empty> <empty> <empty> <empty> <empty> <empty> <empty> <empty> <empty> <empty> <empty> <empty> <empty> <empty> <empty> <empty> <empty> <empty> <empty> <empty> <empty> <empty> <empty> <empty> <empty> <empty> <empty> <empty> <empty> <empty> <empty> <empty> <empty> <empty> <empty> <empty> <empty> <empty> <empty> <empty> <empty> <empty> <empty> <empty> <empty> <empty> <empty> <empty> <empty> <empty> <empty> <empty> <empty> <empty> <empty> <empty> <empty> <empty> <empty> <empty> <empty> <empty> <empty> <empty> <empty>\n",
      "1/1 [==============================] - 0s 39ms/step\n",
      "BLEU Score: 5.796657728756031e-232\n",
      "The english sentence is: Contrary to recent charges Turkey’s foreign policymakers are not seeking to revive the Ottoman Empire\n",
      "The german sentence is: Anders als in jüngster Zeit behauptet streben die Außenpolitiker der Türkei keine Wiederbelebung des Ottomanischen Reiches an\n",
      "The predicted sentence is :\n",
      "1/1 [==============================] - 0s 37ms/step\n",
      "die die die die die die die <empty> <empty> <empty> <empty> <empty> <empty> <empty> <empty> <empty> <empty> <empty> <empty> <empty> <empty> <empty> <empty> <empty> <empty> <empty> <empty> <empty> <empty> <empty> <empty> <empty> <empty> <empty> <empty> <empty> <empty> <empty> <empty> <empty> <empty> <empty> <empty> <empty> <empty> <empty> <empty> <empty> <empty> <empty> <empty> <empty> <empty> <empty> <empty> <empty> <empty> <empty> <empty> <empty> <empty> <empty> <empty> <empty> <empty> <empty> <empty> <empty> <empty> <empty> <empty> <empty> <empty> <empty> <empty> <empty> <empty> <empty> <empty> <empty> <empty> <empty> <empty> <empty> <empty> <empty> <empty> <empty> <empty>\n",
      "1/1 [==============================] - 0s 48ms/step\n",
      "BLEU Score: 5.796657728756031e-232\n"
     ]
    }
   ],
   "source": [
    "#define and print the prediction for LSTM model\n",
    "def logits_to_sentence(logits, tokenizer):\n",
    "\n",
    "    index_to_words = {idx: word for word, idx in tokenizer.word_index.items()}\n",
    "    index_to_words[0] = '<empty>' \n",
    "\n",
    "    return ' '.join([index_to_words[prediction] for prediction in np.argmax(logits, 1)])\n",
    "\n",
    "#index = 10\n",
    "for index in range(200, 216):\n",
    "    print(\"The english sentence is: {}\".format(english_sentences[index]))\n",
    "    print(\"The german sentence is: {}\".format(german_sentences[index]))\n",
    "    print('The predicted sentence is :')\n",
    "    print(logits_to_sentence(enc_dec_model.predict(eng_pad_sentence[index:index+1])[0], german_text_tokenizer))\n",
    "    print(\"BLEU LSTM Score:\",sentence_bleu(german_sentences[index],logits_to_sentence(enc_dec_model.predict(eng_pad_sentence[index:index+1])[0], german_text_tokenizer),weights=(0.25,0.25,0.25,0.25)))\n"
   ]
  }
 ],
 "metadata": {
  "kernelspec": {
   "display_name": "Python 3 (ipykernel)",
   "language": "python",
   "name": "python3"
  },
  "language_info": {
   "codemirror_mode": {
    "name": "ipython",
    "version": 3
   },
   "file_extension": ".py",
   "mimetype": "text/x-python",
   "name": "python",
   "nbconvert_exporter": "python",
   "pygments_lexer": "ipython3",
   "version": "3.11.4"
  }
 },
 "nbformat": 4,
 "nbformat_minor": 5
}
